{
 "cells": [
  {
   "cell_type": "markdown",
   "id": "175c64ab",
   "metadata": {},
   "source": [
    "# CNN_UTK_Model for AgeRange 6 class classification - Canny Edges - Dropout-Augmentation"
   ]
  },
  {
   "cell_type": "code",
   "execution_count": 1,
   "id": "c19b9986",
   "metadata": {},
   "outputs": [],
   "source": [
    "import numpy as np \n",
    "import pandas as pd\n",
    "import matplotlib.pyplot as plt\n",
    "import seaborn as sns\n",
    "import tensorflow as tf\n",
    "from sklearn.model_selection import train_test_split\n",
    "from sklearn.preprocessing import MinMaxScaler\n",
    "from tensorflow.keras.utils import to_categorical\n",
    "from tensorflow.keras.preprocessing.image import ImageDataGenerator\n",
    "import cv2\n",
    "plt.style.use('ggplot')"
   ]
  },
  {
   "cell_type": "markdown",
   "id": "0c7058a5",
   "metadata": {},
   "source": [
    "### Data preprocessing"
   ]
  },
  {
   "cell_type": "code",
   "execution_count": 2,
   "id": "b98af692",
   "metadata": {},
   "outputs": [
    {
     "data": {
      "text/html": [
       "<div>\n",
       "<style scoped>\n",
       "    .dataframe tbody tr th:only-of-type {\n",
       "        vertical-align: middle;\n",
       "    }\n",
       "\n",
       "    .dataframe tbody tr th {\n",
       "        vertical-align: top;\n",
       "    }\n",
       "\n",
       "    .dataframe thead th {\n",
       "        text-align: right;\n",
       "    }\n",
       "</style>\n",
       "<table border=\"1\" class=\"dataframe\">\n",
       "  <thead>\n",
       "    <tr style=\"text-align: right;\">\n",
       "      <th></th>\n",
       "      <th>age</th>\n",
       "      <th>ethnicity</th>\n",
       "      <th>gender</th>\n",
       "      <th>img_name</th>\n",
       "      <th>pixels</th>\n",
       "    </tr>\n",
       "  </thead>\n",
       "  <tbody>\n",
       "    <tr>\n",
       "      <th>0</th>\n",
       "      <td>1</td>\n",
       "      <td>2</td>\n",
       "      <td>0</td>\n",
       "      <td>20161219203650636.jpg.chip.jpg</td>\n",
       "      <td>129 128 128 126 127 130 133 135 139 142 145 14...</td>\n",
       "    </tr>\n",
       "    <tr>\n",
       "      <th>1</th>\n",
       "      <td>1</td>\n",
       "      <td>2</td>\n",
       "      <td>0</td>\n",
       "      <td>20161219222752047.jpg.chip.jpg</td>\n",
       "      <td>164 74 111 168 169 171 175 182 184 188 193 199...</td>\n",
       "    </tr>\n",
       "    <tr>\n",
       "      <th>2</th>\n",
       "      <td>1</td>\n",
       "      <td>2</td>\n",
       "      <td>0</td>\n",
       "      <td>20161219222832191.jpg.chip.jpg</td>\n",
       "      <td>67 70 71 70 69 67 70 79 90 103 116 132 145 155...</td>\n",
       "    </tr>\n",
       "    <tr>\n",
       "      <th>3</th>\n",
       "      <td>1</td>\n",
       "      <td>2</td>\n",
       "      <td>0</td>\n",
       "      <td>20161220144911423.jpg.chip.jpg</td>\n",
       "      <td>193 197 198 200 199 200 202 203 204 205 208 21...</td>\n",
       "    </tr>\n",
       "    <tr>\n",
       "      <th>4</th>\n",
       "      <td>1</td>\n",
       "      <td>2</td>\n",
       "      <td>0</td>\n",
       "      <td>20161220144914327.jpg.chip.jpg</td>\n",
       "      <td>202 205 209 210 209 209 210 211 212 214 218 21...</td>\n",
       "    </tr>\n",
       "  </tbody>\n",
       "</table>\n",
       "</div>"
      ],
      "text/plain": [
       "   age  ethnicity  gender                        img_name  \\\n",
       "0    1          2       0  20161219203650636.jpg.chip.jpg   \n",
       "1    1          2       0  20161219222752047.jpg.chip.jpg   \n",
       "2    1          2       0  20161219222832191.jpg.chip.jpg   \n",
       "3    1          2       0  20161220144911423.jpg.chip.jpg   \n",
       "4    1          2       0  20161220144914327.jpg.chip.jpg   \n",
       "\n",
       "                                              pixels  \n",
       "0  129 128 128 126 127 130 133 135 139 142 145 14...  \n",
       "1  164 74 111 168 169 171 175 182 184 188 193 199...  \n",
       "2  67 70 71 70 69 67 70 79 90 103 116 132 145 155...  \n",
       "3  193 197 198 200 199 200 202 203 204 205 208 21...  \n",
       "4  202 205 209 210 209 209 210 211 212 214 218 21...  "
      ]
     },
     "execution_count": 2,
     "metadata": {},
     "output_type": "execute_result"
    }
   ],
   "source": [
    "df = pd.read_csv('./dataset/UTK_dataset.csv')\n",
    "df.head()"
   ]
  },
  {
   "cell_type": "code",
   "execution_count": 3,
   "id": "97dba096",
   "metadata": {},
   "outputs": [
    {
     "name": "stdout",
     "output_type": "stream",
     "text": [
      "<class 'pandas.core.frame.DataFrame'>\n",
      "RangeIndex: 23705 entries, 0 to 23704\n",
      "Data columns (total 5 columns):\n",
      " #   Column     Non-Null Count  Dtype \n",
      "---  ------     --------------  ----- \n",
      " 0   age        23705 non-null  int64 \n",
      " 1   ethnicity  23705 non-null  int64 \n",
      " 2   gender     23705 non-null  int64 \n",
      " 3   img_name   23705 non-null  object\n",
      " 4   pixels     23705 non-null  object\n",
      "dtypes: int64(3), object(2)\n",
      "memory usage: 926.1+ KB\n"
     ]
    }
   ],
   "source": [
    "df.info()"
   ]
  },
  {
   "cell_type": "code",
   "execution_count": 4,
   "id": "bd36d432",
   "metadata": {},
   "outputs": [
    {
     "data": {
      "text/html": [
       "<div>\n",
       "<style scoped>\n",
       "    .dataframe tbody tr th:only-of-type {\n",
       "        vertical-align: middle;\n",
       "    }\n",
       "\n",
       "    .dataframe tbody tr th {\n",
       "        vertical-align: top;\n",
       "    }\n",
       "\n",
       "    .dataframe thead th {\n",
       "        text-align: right;\n",
       "    }\n",
       "</style>\n",
       "<table border=\"1\" class=\"dataframe\">\n",
       "  <thead>\n",
       "    <tr style=\"text-align: right;\">\n",
       "      <th></th>\n",
       "      <th>age</th>\n",
       "      <th>ethnicity</th>\n",
       "      <th>gender</th>\n",
       "    </tr>\n",
       "  </thead>\n",
       "  <tbody>\n",
       "    <tr>\n",
       "      <th>count</th>\n",
       "      <td>23705.000000</td>\n",
       "      <td>23705.000000</td>\n",
       "      <td>23705.000000</td>\n",
       "    </tr>\n",
       "    <tr>\n",
       "      <th>mean</th>\n",
       "      <td>33.300907</td>\n",
       "      <td>1.269226</td>\n",
       "      <td>0.477283</td>\n",
       "    </tr>\n",
       "    <tr>\n",
       "      <th>std</th>\n",
       "      <td>19.885708</td>\n",
       "      <td>1.345638</td>\n",
       "      <td>0.499494</td>\n",
       "    </tr>\n",
       "    <tr>\n",
       "      <th>min</th>\n",
       "      <td>1.000000</td>\n",
       "      <td>0.000000</td>\n",
       "      <td>0.000000</td>\n",
       "    </tr>\n",
       "    <tr>\n",
       "      <th>25%</th>\n",
       "      <td>23.000000</td>\n",
       "      <td>0.000000</td>\n",
       "      <td>0.000000</td>\n",
       "    </tr>\n",
       "    <tr>\n",
       "      <th>50%</th>\n",
       "      <td>29.000000</td>\n",
       "      <td>1.000000</td>\n",
       "      <td>0.000000</td>\n",
       "    </tr>\n",
       "    <tr>\n",
       "      <th>75%</th>\n",
       "      <td>45.000000</td>\n",
       "      <td>2.000000</td>\n",
       "      <td>1.000000</td>\n",
       "    </tr>\n",
       "    <tr>\n",
       "      <th>max</th>\n",
       "      <td>116.000000</td>\n",
       "      <td>4.000000</td>\n",
       "      <td>1.000000</td>\n",
       "    </tr>\n",
       "  </tbody>\n",
       "</table>\n",
       "</div>"
      ],
      "text/plain": [
       "                age     ethnicity        gender\n",
       "count  23705.000000  23705.000000  23705.000000\n",
       "mean      33.300907      1.269226      0.477283\n",
       "std       19.885708      1.345638      0.499494\n",
       "min        1.000000      0.000000      0.000000\n",
       "25%       23.000000      0.000000      0.000000\n",
       "50%       29.000000      1.000000      0.000000\n",
       "75%       45.000000      2.000000      1.000000\n",
       "max      116.000000      4.000000      1.000000"
      ]
     },
     "execution_count": 4,
     "metadata": {},
     "output_type": "execute_result"
    }
   ],
   "source": [
    "df.describe()"
   ]
  },
  {
   "cell_type": "code",
   "execution_count": 5,
   "id": "b054a062",
   "metadata": {},
   "outputs": [
    {
     "data": {
      "text/plain": [
       "age          0\n",
       "ethnicity    0\n",
       "gender       0\n",
       "img_name     0\n",
       "pixels       0\n",
       "dtype: int64"
      ]
     },
     "execution_count": 5,
     "metadata": {},
     "output_type": "execute_result"
    }
   ],
   "source": [
    "df.isna().sum()"
   ]
  },
  {
   "cell_type": "code",
   "execution_count": 6,
   "id": "9467f87d",
   "metadata": {},
   "outputs": [
    {
     "data": {
      "text/html": [
       "<div>\n",
       "<style scoped>\n",
       "    .dataframe tbody tr th:only-of-type {\n",
       "        vertical-align: middle;\n",
       "    }\n",
       "\n",
       "    .dataframe tbody tr th {\n",
       "        vertical-align: top;\n",
       "    }\n",
       "\n",
       "    .dataframe thead th {\n",
       "        text-align: right;\n",
       "    }\n",
       "</style>\n",
       "<table border=\"1\" class=\"dataframe\">\n",
       "  <thead>\n",
       "    <tr style=\"text-align: right;\">\n",
       "      <th></th>\n",
       "      <th>age</th>\n",
       "      <th>ethnicity</th>\n",
       "      <th>gender</th>\n",
       "      <th>img_name</th>\n",
       "      <th>pixels</th>\n",
       "    </tr>\n",
       "  </thead>\n",
       "  <tbody>\n",
       "    <tr>\n",
       "      <th>0</th>\n",
       "      <td>1</td>\n",
       "      <td>2</td>\n",
       "      <td>0</td>\n",
       "      <td>20161219203650636.jpg.chip.jpg</td>\n",
       "      <td>[129.0, 128.0, 128.0, 126.0, 127.0, 130.0, 133...</td>\n",
       "    </tr>\n",
       "    <tr>\n",
       "      <th>1</th>\n",
       "      <td>1</td>\n",
       "      <td>2</td>\n",
       "      <td>0</td>\n",
       "      <td>20161219222752047.jpg.chip.jpg</td>\n",
       "      <td>[164.0, 74.0, 111.0, 168.0, 169.0, 171.0, 175....</td>\n",
       "    </tr>\n",
       "    <tr>\n",
       "      <th>2</th>\n",
       "      <td>1</td>\n",
       "      <td>2</td>\n",
       "      <td>0</td>\n",
       "      <td>20161219222832191.jpg.chip.jpg</td>\n",
       "      <td>[67.0, 70.0, 71.0, 70.0, 69.0, 67.0, 70.0, 79....</td>\n",
       "    </tr>\n",
       "    <tr>\n",
       "      <th>3</th>\n",
       "      <td>1</td>\n",
       "      <td>2</td>\n",
       "      <td>0</td>\n",
       "      <td>20161220144911423.jpg.chip.jpg</td>\n",
       "      <td>[193.0, 197.0, 198.0, 200.0, 199.0, 200.0, 202...</td>\n",
       "    </tr>\n",
       "    <tr>\n",
       "      <th>4</th>\n",
       "      <td>1</td>\n",
       "      <td>2</td>\n",
       "      <td>0</td>\n",
       "      <td>20161220144914327.jpg.chip.jpg</td>\n",
       "      <td>[202.0, 205.0, 209.0, 210.0, 209.0, 209.0, 210...</td>\n",
       "    </tr>\n",
       "  </tbody>\n",
       "</table>\n",
       "</div>"
      ],
      "text/plain": [
       "   age  ethnicity  gender                        img_name  \\\n",
       "0    1          2       0  20161219203650636.jpg.chip.jpg   \n",
       "1    1          2       0  20161219222752047.jpg.chip.jpg   \n",
       "2    1          2       0  20161219222832191.jpg.chip.jpg   \n",
       "3    1          2       0  20161220144911423.jpg.chip.jpg   \n",
       "4    1          2       0  20161220144914327.jpg.chip.jpg   \n",
       "\n",
       "                                              pixels  \n",
       "0  [129.0, 128.0, 128.0, 126.0, 127.0, 130.0, 133...  \n",
       "1  [164.0, 74.0, 111.0, 168.0, 169.0, 171.0, 175....  \n",
       "2  [67.0, 70.0, 71.0, 70.0, 69.0, 67.0, 70.0, 79....  \n",
       "3  [193.0, 197.0, 198.0, 200.0, 199.0, 200.0, 202...  \n",
       "4  [202.0, 205.0, 209.0, 210.0, 209.0, 209.0, 210...  "
      ]
     },
     "execution_count": 6,
     "metadata": {},
     "output_type": "execute_result"
    }
   ],
   "source": [
    "df['pixels']=df['pixels'].apply(lambda x:  np.array(x.split(), dtype=\"float32\"))\n",
    "\n",
    "df.head()"
   ]
  },
  {
   "cell_type": "code",
   "execution_count": 7,
   "id": "31a1f088",
   "metadata": {},
   "outputs": [
    {
     "data": {
      "text/plain": [
       "104"
      ]
     },
     "execution_count": 7,
     "metadata": {},
     "output_type": "execute_result"
    }
   ],
   "source": [
    "len(df['age'].unique())"
   ]
  },
  {
   "cell_type": "markdown",
   "id": "91e6c3ca",
   "metadata": {},
   "source": [
    "### Data analysis"
   ]
  },
  {
   "cell_type": "code",
   "execution_count": 8,
   "id": "6bd9cc52",
   "metadata": {},
   "outputs": [
    {
     "data": {
      "text/plain": [
       "<AxesSubplot:xlabel='age', ylabel='Count'>"
      ]
     },
     "execution_count": 8,
     "metadata": {},
     "output_type": "execute_result"
    },
    {
     "data": {
      "image/png": "[encoded data removed]",
      "text/plain": [
       "<Figure size 432x288 with 1 Axes>"
      ]
     },
     "metadata": {},
     "output_type": "display_data"
    }
   ],
   "source": [
    "sns.histplot(data=df, x='age')"
   ]
  },
  {
   "cell_type": "code",
   "execution_count": 9,
   "id": "7aa518df",
   "metadata": {},
   "outputs": [
    {
     "data": {
      "image/png": "[encoded data removed]",
      "text/plain": [
       "<Figure size 1152x1152 with 20 Axes>"
      ]
     },
     "metadata": {},
     "output_type": "display_data"
    }
   ],
   "source": [
    "plt.figure(figsize=(16,16))\n",
    "for i in range(1500,1520):\n",
    "    plt.subplot(5,5,(i%25)+1)\n",
    "    plt.xticks([])\n",
    "    plt.yticks([])\n",
    "    plt.grid(False)\n",
    "    img = df['pixels'].iloc[i].reshape(48,48).astype( np.uint8)\n",
    "    plt.imshow(cv2.Canny(img, 50, 200))\n",
    "    plt.xlabel(\n",
    "        \"Age:\"+str(df['age'].iloc[i]))\n",
    "plt.show()"
   ]
  },
  {
   "cell_type": "code",
   "execution_count": 10,
   "id": "ec27681c",
   "metadata": {},
   "outputs": [],
   "source": [
    "df['pixels']=df['pixels'].apply(lambda x:  cv2.Canny(x.reshape(48,48).astype( np.uint8), 50, 200).reshape(2304))"
   ]
  },
  {
   "cell_type": "code",
   "execution_count": 11,
   "id": "7034b538",
   "metadata": {},
   "outputs": [],
   "source": [
    "X = np.array(df['pixels'].tolist())\n",
    "# taking range of 5\n",
    "y = df['age'] // 20"
   ]
  },
  {
   "cell_type": "code",
   "execution_count": 12,
   "id": "3b4ffc6e",
   "metadata": {},
   "outputs": [],
   "source": [
    "scaler = MinMaxScaler()\n",
    "X = scaler.fit_transform(X)"
   ]
  },
  {
   "cell_type": "code",
   "execution_count": 13,
   "id": "bdeda714",
   "metadata": {},
   "outputs": [],
   "source": [
    "X = X.reshape(X.shape[0],48,48,1)"
   ]
  },
  {
   "cell_type": "code",
   "execution_count": 14,
   "id": "1b5b11b4",
   "metadata": {},
   "outputs": [
    {
     "data": {
      "text/plain": [
       "(5, 48, 48, 1)"
      ]
     },
     "execution_count": 14,
     "metadata": {},
     "output_type": "execute_result"
    }
   ],
   "source": [
    "X[:5].shape"
   ]
  },
  {
   "cell_type": "code",
   "execution_count": 15,
   "id": "f239fa27",
   "metadata": {},
   "outputs": [
    {
     "data": {
      "text/plain": [
       "array([0, 5, 1, 2, 3, 4], dtype=int64)"
      ]
     },
     "execution_count": 15,
     "metadata": {},
     "output_type": "execute_result"
    }
   ],
   "source": [
    "y.unique()"
   ]
  },
  {
   "cell_type": "code",
   "execution_count": 16,
   "id": "fedc5996",
   "metadata": {},
   "outputs": [],
   "source": [
    "y = to_categorical(y, num_classes=6)"
   ]
  },
  {
   "cell_type": "code",
   "execution_count": 17,
   "id": "2c705d00",
   "metadata": {},
   "outputs": [],
   "source": [
    "X_train, X_test, y_train, y_test = train_test_split(X, y, test_size=0.1, random_state=42)"
   ]
  },
  {
   "cell_type": "code",
   "execution_count": 19,
   "id": "e2461e45",
   "metadata": {},
   "outputs": [],
   "source": [
    "train_datagen = ImageDataGenerator(\n",
    "    shear_range = 0.2, # random application of shearing\n",
    "    zoom_range = 0.2, \n",
    "    horizontal_flip = True) # randomly flipping half of the images horizontally\n",
    "\n",
    "test_datagen = ImageDataGenerator()"
   ]
  },
  {
   "cell_type": "markdown",
   "id": "0c2c7543",
   "metadata": {},
   "source": [
    "### Model creation"
   ]
  },
  {
   "cell_type": "code",
   "execution_count": 20,
   "id": "dd23c147",
   "metadata": {},
   "outputs": [],
   "source": [
    "from tensorflow.keras.models import Sequential\n",
    "from tensorflow.keras.layers import InputLayer, Conv2D, MaxPooling2D, Dense, Flatten, Dropout\n",
    "from tensorflow.keras.callbacks import ModelCheckpoint\n",
    "from tensorflow.keras.utils import plot_model"
   ]
  },
  {
   "cell_type": "code",
   "execution_count": 21,
   "id": "276899d2",
   "metadata": {},
   "outputs": [
    {
     "name": "stdout",
     "output_type": "stream",
     "text": [
      "Model: \"sequential\"\n",
      "_________________________________________________________________\n",
      "Layer (type)                 Output Shape              Param #   \n",
      "=================================================================\n",
      "conv2d (Conv2D)              (None, 46, 46, 32)        320       \n",
      "_________________________________________________________________\n",
      "dropout (Dropout)            (None, 46, 46, 32)        0         \n",
      "_________________________________________________________________\n",
      "max_pooling2d (MaxPooling2D) (None, 23, 23, 32)        0         \n",
      "_________________________________________________________________\n",
      "conv2d_1 (Conv2D)            (None, 21, 21, 64)        18496     \n",
      "_________________________________________________________________\n",
      "dropout_1 (Dropout)          (None, 21, 21, 64)        0         \n",
      "_________________________________________________________________\n",
      "max_pooling2d_1 (MaxPooling2 (None, 10, 10, 64)        0         \n",
      "_________________________________________________________________\n",
      "conv2d_2 (Conv2D)            (None, 8, 8, 32)          18464     \n",
      "_________________________________________________________________\n",
      "dropout_2 (Dropout)          (None, 8, 8, 32)          0         \n",
      "_________________________________________________________________\n",
      "max_pooling2d_2 (MaxPooling2 (None, 4, 4, 32)          0         \n",
      "_________________________________________________________________\n",
      "flatten (Flatten)            (None, 512)               0         \n",
      "_________________________________________________________________\n",
      "dense (Dense)                (None, 32)                16416     \n",
      "_________________________________________________________________\n",
      "dense_1 (Dense)              (None, 6)                 198       \n",
      "=================================================================\n",
      "Total params: 53,894\n",
      "Trainable params: 53,894\n",
      "Non-trainable params: 0\n",
      "_________________________________________________________________\n"
     ]
    }
   ],
   "source": [
    "model = Sequential()\n",
    "\n",
    "model.add(InputLayer(input_shape=(48, 48, 1)))\n",
    "model.add(Conv2D(32, (3, 3), activation='relu', input_shape=(32, 32, 3)))\n",
    "model.add(Dropout(0.2))\n",
    "model.add(MaxPooling2D((2, 2)))\n",
    "model.add(Conv2D(64, (3, 3), activation='relu'))\n",
    "model.add(Dropout(0.5))\n",
    "model.add(MaxPooling2D((2, 2)))\n",
    "model.add(Conv2D(32, (3, 3), activation='relu'))\n",
    "model.add(Dropout(0.2))\n",
    "model.add(MaxPooling2D((2, 2)))\n",
    "\n",
    "model.add(Flatten())\n",
    "\n",
    "model.add(Dense(32, activation='relu'))\n",
    "model.add(Dense(6, activation='softmax'))\n",
    "\n",
    "model.compile(loss=\"categorical_crossentropy\", optimizer=\"adam\", metrics=[\"accuracy\", \"mae\"])\n",
    "\n",
    "model.summary()"
   ]
  },
  {
   "cell_type": "code",
   "execution_count": 22,
   "id": "5095e09d",
   "metadata": {},
   "outputs": [
    {
     "data": {
      "image/png": "[encoded data removed]",
      "text/plain": [
       "<IPython.core.display.Image object>"
      ]
     },
     "execution_count": 22,
     "metadata": {},
     "output_type": "execute_result"
    }
   ],
   "source": [
    "plot_model(model, to_file='models/cnn_utk_model_2_age-range-classification_6classes_canny-dropout-aug.png')"
   ]
  },
  {
   "cell_type": "code",
   "execution_count": 23,
   "id": "ed53ced9",
   "metadata": {},
   "outputs": [],
   "source": [
    "filepath = 'checkpoints/age_range_model2_classification_6classes_canny-dropout-aug.epoch{epoch:02d}-loss{val_loss:.2f}.hdf5'\n",
    "checkpoint = ModelCheckpoint(filepath, monitor=\"val_loss\", save_best_only=True, mode=\"min\", verbose=1)"
   ]
  },
  {
   "cell_type": "code",
   "execution_count": null,
   "id": "1c984028",
   "metadata": {},
   "outputs": [
    {
     "name": "stdout",
     "output_type": "stream",
     "text": [
      "Epoch 1/30\n",
      "334/334 [==============================] - ETA: 0s - loss: 1.1827 - accuracy: 0.5347 - mae: 0.2031\n",
      "Epoch 00001: val_loss improved from inf to 1.13624, saving model to checkpoints\\age_range_model2_classification_6classes_canny-dropout-aug.epoch01-loss1.14.hdf5\n",
      "334/334 [==============================] - 89s 268ms/step - loss: 1.1827 - accuracy: 0.5347 - mae: 0.2031 - val_loss: 1.1362 - val_accuracy: 0.5757 - val_mae: 0.2128\n",
      "Epoch 2/30\n",
      "334/334 [==============================] - ETA: 0s - loss: 1.0764 - accuracy: 0.5712 - mae: 0.1871\n",
      "Epoch 00002: val_loss improved from 1.13624 to 1.06973, saving model to checkpoints\\age_range_model2_classification_6classes_canny-dropout-aug.epoch02-loss1.07.hdf5\n",
      "334/334 [==============================] - 88s 263ms/step - loss: 1.0764 - accuracy: 0.5712 - mae: 0.1871 - val_loss: 1.0697 - val_accuracy: 0.5968 - val_mae: 0.2011\n",
      "Epoch 3/30\n",
      "334/334 [==============================] - ETA: 0s - loss: 1.0285 - accuracy: 0.5875 - mae: 0.1796\n",
      "Epoch 00003: val_loss improved from 1.06973 to 1.04087, saving model to checkpoints\\age_range_model2_classification_6classes_canny-dropout-aug.epoch03-loss1.04.hdf5\n",
      "334/334 [==============================] - 86s 257ms/step - loss: 1.0285 - accuracy: 0.5875 - mae: 0.1796 - val_loss: 1.0409 - val_accuracy: 0.6255 - val_mae: 0.2001\n",
      "Epoch 4/30\n",
      "334/334 [==============================] - ETA: 0s - loss: 0.9976 - accuracy: 0.6015 - mae: 0.1749\n",
      "Epoch 00004: val_loss improved from 1.04087 to 1.03081, saving model to checkpoints\\age_range_model2_classification_6classes_canny-dropout-aug.epoch04-loss1.03.hdf5\n",
      "334/334 [==============================] - 87s 260ms/step - loss: 0.9976 - accuracy: 0.6015 - mae: 0.1749 - val_loss: 1.0308 - val_accuracy: 0.6331 - val_mae: 0.2008\n",
      "Epoch 5/30\n",
      "334/334 [==============================] - ETA: 0s - loss: 0.9677 - accuracy: 0.6109 - mae: 0.1705\n",
      "Epoch 00005: val_loss improved from 1.03081 to 0.96146, saving model to checkpoints\\age_range_model2_classification_6classes_canny-dropout-aug.epoch05-loss0.96.hdf5\n",
      "334/334 [==============================] - 81s 242ms/step - loss: 0.9677 - accuracy: 0.6109 - mae: 0.1705 - val_loss: 0.9615 - val_accuracy: 0.6369 - val_mae: 0.1861\n",
      "Epoch 6/30\n",
      "334/334 [==============================] - ETA: 0s - loss: 0.9495 - accuracy: 0.6124 - mae: 0.1678\n",
      "Epoch 00006: val_loss did not improve from 0.96146\n",
      "334/334 [==============================] - 82s 244ms/step - loss: 0.9495 - accuracy: 0.6124 - mae: 0.1678 - val_loss: 0.9725 - val_accuracy: 0.6474 - val_mae: 0.1912\n",
      "Epoch 7/30\n",
      "334/334 [==============================] - ETA: 0s - loss: 0.9338 - accuracy: 0.6229 - mae: 0.1651\n",
      "Epoch 00007: val_loss improved from 0.96146 to 0.94209, saving model to checkpoints\\age_range_model2_classification_6classes_canny-dropout-aug.epoch07-loss0.94.hdf5\n",
      "334/334 [==============================] - 83s 248ms/step - loss: 0.9338 - accuracy: 0.6229 - mae: 0.1651 - val_loss: 0.9421 - val_accuracy: 0.6563 - val_mae: 0.1856\n",
      "Epoch 8/30\n",
      "334/334 [==============================] - ETA: 0s - loss: 0.9290 - accuracy: 0.6255 - mae: 0.1644\n",
      "Epoch 00008: val_loss improved from 0.94209 to 0.93029, saving model to checkpoints\\age_range_model2_classification_6classes_canny-dropout-aug.epoch08-loss0.93.hdf5\n",
      "334/334 [==============================] - 83s 248ms/step - loss: 0.9290 - accuracy: 0.6255 - mae: 0.1644 - val_loss: 0.9303 - val_accuracy: 0.6482 - val_mae: 0.1829\n",
      "Epoch 9/30\n",
      "334/334 [==============================] - ETA: 0s - loss: 0.9229 - accuracy: 0.6248 - mae: 0.1632\n",
      "Epoch 00009: val_loss improved from 0.93029 to 0.92273, saving model to checkpoints\\age_range_model2_classification_6classes_canny-dropout-aug.epoch09-loss0.92.hdf5\n",
      "334/334 [==============================] - 82s 246ms/step - loss: 0.9229 - accuracy: 0.6248 - mae: 0.1632 - val_loss: 0.9227 - val_accuracy: 0.6512 - val_mae: 0.1807\n",
      "Epoch 10/30\n",
      "334/334 [==============================] - ETA: 0s - loss: 0.9133 - accuracy: 0.6304 - mae: 0.1620\n",
      "Epoch 00010: val_loss did not improve from 0.92273\n",
      "334/334 [==============================] - 82s 247ms/step - loss: 0.9133 - accuracy: 0.6304 - mae: 0.1620 - val_loss: 0.9235 - val_accuracy: 0.6672 - val_mae: 0.1822\n",
      "Epoch 11/30\n",
      "334/334 [==============================] - ETA: 0s - loss: 0.9036 - accuracy: 0.6326 - mae: 0.1605\n",
      "Epoch 00011: val_loss did not improve from 0.92273\n",
      "334/334 [==============================] - 83s 248ms/step - loss: 0.9036 - accuracy: 0.6326 - mae: 0.1605 - val_loss: 0.9363 - val_accuracy: 0.6601 - val_mae: 0.1844\n",
      "Epoch 12/30\n",
      "334/334 [==============================] - ETA: 0s - loss: 0.9007 - accuracy: 0.6354 - mae: 0.1602\n",
      "Epoch 00012: val_loss did not improve from 0.92273\n",
      "334/334 [==============================] - 73s 217ms/step - loss: 0.9007 - accuracy: 0.6354 - mae: 0.1602 - val_loss: 0.9496 - val_accuracy: 0.6592 - val_mae: 0.1862\n",
      "Epoch 13/30\n",
      "334/334 [==============================] - ETA: 0s - loss: 0.8940 - accuracy: 0.6352 - mae: 0.1588\n",
      "Epoch 00013: val_loss improved from 0.92273 to 0.91599, saving model to checkpoints\\age_range_model2_classification_6classes_canny-dropout-aug.epoch13-loss0.92.hdf5\n",
      "334/334 [==============================] - 43s 127ms/step - loss: 0.8940 - accuracy: 0.6352 - mae: 0.1588 - val_loss: 0.9160 - val_accuracy: 0.6714 - val_mae: 0.1812\n",
      "Epoch 14/30\n",
      "334/334 [==============================] - ETA: 0s - loss: 0.8863 - accuracy: 0.6437 - mae: 0.1576\n",
      "Epoch 00014: val_loss improved from 0.91599 to 0.90660, saving model to checkpoints\\age_range_model2_classification_6classes_canny-dropout-aug.epoch14-loss0.91.hdf5\n",
      "334/334 [==============================] - 44s 130ms/step - loss: 0.8863 - accuracy: 0.6437 - mae: 0.1576 - val_loss: 0.9066 - val_accuracy: 0.6736 - val_mae: 0.1793\n",
      "Epoch 15/30\n",
      "334/334 [==============================] - ETA: 0s - loss: 0.8834 - accuracy: 0.6414 - mae: 0.1571\n",
      "Epoch 00015: val_loss did not improve from 0.90660\n",
      "334/334 [==============================] - 43s 128ms/step - loss: 0.8834 - accuracy: 0.6414 - mae: 0.1571 - val_loss: 0.9746 - val_accuracy: 0.6672 - val_mae: 0.1919\n",
      "Epoch 16/30\n",
      "334/334 [==============================] - ETA: 0s - loss: 0.8802 - accuracy: 0.6441 - mae: 0.1565\n",
      "Epoch 00016: val_loss improved from 0.90660 to 0.89746, saving model to checkpoints\\age_range_model2_classification_6classes_canny-dropout-aug.epoch16-loss0.90.hdf5\n",
      "334/334 [==============================] - 47s 141ms/step - loss: 0.8802 - accuracy: 0.6441 - mae: 0.1565 - val_loss: 0.8975 - val_accuracy: 0.6807 - val_mae: 0.1777\n",
      "Epoch 17/30\n",
      "334/334 [==============================] - ETA: 0s - loss: 0.8769 - accuracy: 0.6461 - mae: 0.1558\n",
      "Epoch 00017: val_loss did not improve from 0.89746\n",
      "334/334 [==============================] - 47s 140ms/step - loss: 0.8769 - accuracy: 0.6461 - mae: 0.1558 - val_loss: 0.9070 - val_accuracy: 0.6736 - val_mae: 0.1785\n",
      "Epoch 18/30\n",
      "334/334 [==============================] - ETA: 0s - loss: 0.8732 - accuracy: 0.6466 - mae: 0.1556\n",
      "Epoch 00018: val_loss did not improve from 0.89746\n",
      "334/334 [==============================] - 49s 146ms/step - loss: 0.8732 - accuracy: 0.6466 - mae: 0.1556 - val_loss: 0.9586 - val_accuracy: 0.6651 - val_mae: 0.1907\n",
      "Epoch 19/30\n",
      "334/334 [==============================] - ETA: 0s - loss: 0.8734 - accuracy: 0.6473 - mae: 0.1554\n",
      "Epoch 00019: val_loss did not improve from 0.89746\n",
      "334/334 [==============================] - 47s 140ms/step - loss: 0.8734 - accuracy: 0.6473 - mae: 0.1554 - val_loss: 0.9333 - val_accuracy: 0.6693 - val_mae: 0.1846\n",
      "Epoch 20/30\n",
      "334/334 [==============================] - ETA: 0s - loss: 0.8769 - accuracy: 0.6444 - mae: 0.1566\n",
      "Epoch 00020: val_loss did not improve from 0.89746\n",
      "334/334 [==============================] - 47s 140ms/step - loss: 0.8769 - accuracy: 0.6444 - mae: 0.1566 - val_loss: 0.9101 - val_accuracy: 0.6765 - val_mae: 0.1809\n",
      "Epoch 21/30\n",
      "334/334 [==============================] - ETA: 0s - loss: 0.8690 - accuracy: 0.6480 - mae: 0.1549\n",
      "Epoch 00021: val_loss did not improve from 0.89746\n",
      "334/334 [==============================] - 47s 140ms/step - loss: 0.8690 - accuracy: 0.6480 - mae: 0.1549 - val_loss: 0.9042 - val_accuracy: 0.6786 - val_mae: 0.1783\n",
      "Epoch 22/30\n"
     ]
    },
    {
     "name": "stdout",
     "output_type": "stream",
     "text": [
      "334/334 [==============================] - ETA: 0s - loss: 0.8613 - accuracy: 0.6509 - mae: 0.1540\n",
      "Epoch 00022: val_loss did not improve from 0.89746\n",
      "334/334 [==============================] - 48s 142ms/step - loss: 0.8613 - accuracy: 0.6509 - mae: 0.1540 - val_loss: 0.9219 - val_accuracy: 0.6782 - val_mae: 0.1816\n",
      "Epoch 23/30\n",
      "334/334 [==============================] - ETA: 0s - loss: 0.8639 - accuracy: 0.6503 - mae: 0.1541\n",
      "Epoch 00023: val_loss improved from 0.89746 to 0.88936, saving model to checkpoints\\age_range_model2_classification_6classes_canny-dropout-aug.epoch23-loss0.89.hdf5\n",
      "334/334 [==============================] - 47s 140ms/step - loss: 0.8639 - accuracy: 0.6503 - mae: 0.1541 - val_loss: 0.8894 - val_accuracy: 0.6736 - val_mae: 0.1769\n",
      "Epoch 24/30\n",
      "334/334 [==============================] - ETA: 0s - loss: 0.8579 - accuracy: 0.6516 - mae: 0.1538\n",
      "Epoch 00024: val_loss did not improve from 0.88936\n",
      "334/334 [==============================] - 45s 134ms/step - loss: 0.8579 - accuracy: 0.6516 - mae: 0.1538 - val_loss: 0.8919 - val_accuracy: 0.6803 - val_mae: 0.1772\n",
      "Epoch 25/30\n",
      "334/334 [==============================] - ETA: 0s - loss: 0.8551 - accuracy: 0.6516 - mae: 0.1529\n",
      "Epoch 00025: val_loss improved from 0.88936 to 0.87042, saving model to checkpoints\\age_range_model2_classification_6classes_canny-dropout-aug.epoch25-loss0.87.hdf5\n",
      "334/334 [==============================] - 49s 147ms/step - loss: 0.8551 - accuracy: 0.6516 - mae: 0.1529 - val_loss: 0.8704 - val_accuracy: 0.6828 - val_mae: 0.1727\n",
      "Epoch 26/30\n",
      "334/334 [==============================] - ETA: 0s - loss: 0.8531 - accuracy: 0.6567 - mae: 0.1523\n",
      "Epoch 00026: val_loss did not improve from 0.87042\n",
      "334/334 [==============================] - 50s 149ms/step - loss: 0.8531 - accuracy: 0.6567 - mae: 0.1523 - val_loss: 0.8820 - val_accuracy: 0.6833 - val_mae: 0.1747\n",
      "Epoch 27/30\n",
      "334/334 [==============================] - ETA: 0s - loss: 0.8481 - accuracy: 0.6550 - mae: 0.1516\n",
      "Epoch 00027: val_loss did not improve from 0.87042\n",
      "334/334 [==============================] - 47s 142ms/step - loss: 0.8481 - accuracy: 0.6550 - mae: 0.1516 - val_loss: 0.9202 - val_accuracy: 0.6828 - val_mae: 0.1827\n",
      "Epoch 28/30\n",
      "334/334 [==============================] - ETA: 0s - loss: 0.8496 - accuracy: 0.6576 - mae: 0.1519\n",
      "Epoch 00028: val_loss did not improve from 0.87042\n",
      "334/334 [==============================] - 48s 144ms/step - loss: 0.8496 - accuracy: 0.6576 - mae: 0.1519 - val_loss: 0.8846 - val_accuracy: 0.6795 - val_mae: 0.1778\n",
      "Epoch 29/30\n",
      "326/334 [============================>.] - ETA: 1s - loss: 0.8459 - accuracy: 0.6569 - mae: 0.1513"
     ]
    }
   ],
   "source": [
    "model.fit(train_datagen.flow(\n",
    "        X_train, y_train,\n",
    "        batch_size = 64\n",
    "    ), epochs=30, validation_data=(X_test, y_test), callbacks=[checkpoint])"
   ]
  },
  {
   "cell_type": "code",
   "execution_count": null,
   "id": "63aeb2c1",
   "metadata": {
    "scrolled": true
   },
   "outputs": [],
   "source": [
    "pd.DataFrame(model.history.history)[[\"loss\", \"val_loss\"]].plot()"
   ]
  },
  {
   "cell_type": "code",
   "execution_count": null,
   "id": "8a6e3334",
   "metadata": {},
   "outputs": [],
   "source": [
    "from tensorflow.math import argmax"
   ]
  },
  {
   "cell_type": "code",
   "execution_count": null,
   "id": "c0defcaf",
   "metadata": {},
   "outputs": [],
   "source": [
    "y_pred = argmax(model.predict(X), axis=1)"
   ]
  },
  {
   "cell_type": "code",
   "execution_count": null,
   "id": "bd07556b",
   "metadata": {},
   "outputs": [],
   "source": [
    "np.array(y_pred).sum() / len(y_pred)"
   ]
  },
  {
   "cell_type": "code",
   "execution_count": null,
   "id": "ddd72f55",
   "metadata": {
    "scrolled": true
   },
   "outputs": [],
   "source": [
    "pd.Series((y_pred)).plot(kind='hist', bins=40, label='Predicted', alpha=0.5)\n",
    "pd.Series(argmax(y, axis = 1)).plot(kind='hist', bins=40, label='Original', alpha=0.5)\n",
    "\n",
    "plt.legend(title='Group')\n",
    "\n",
    "plt.ylabel('Frequency', fontsize=14)\n",
    "plt.xlabel('Age', fontsize=14)\n",
    "plt.title('Predicted vs Original', fontsize=16)"
   ]
  },
  {
   "cell_type": "code",
   "execution_count": null,
   "id": "a088b58e",
   "metadata": {},
   "outputs": [],
   "source": [
    "from sklearn.metrics import confusion_matrix, classification_report"
   ]
  },
  {
   "cell_type": "code",
   "execution_count": null,
   "id": "cdb109ac",
   "metadata": {},
   "outputs": [],
   "source": [
    "sns.heatmap(confusion_matrix(argmax(y, axis = 1), y_pred))"
   ]
  },
  {
   "cell_type": "code",
   "execution_count": null,
   "id": "c31ff780",
   "metadata": {},
   "outputs": [],
   "source": [
    "print(classification_report(argmax(y, axis = 1), y_pred))"
   ]
  },
  {
   "cell_type": "code",
   "execution_count": null,
   "id": "0c063f05",
   "metadata": {},
   "outputs": [],
   "source": [
    "y_pred.numpy()"
   ]
  },
  {
   "cell_type": "code",
   "execution_count": null,
   "id": "e2614073",
   "metadata": {},
   "outputs": [],
   "source": [
    "plt.figure(figsize=(16,16))\n",
    "for i in range(1400,1420):\n",
    "    plt.subplot(5,5,(i%25)+1)\n",
    "    plt.xticks([])\n",
    "    plt.yticks([])\n",
    "    plt.grid(False)\n",
    "    plt.imshow(df['pixels'].iloc[i].reshape(48,48))\n",
    "    pred_age = (20 * (y_pred.numpy()[i]))\n",
    "    plt.xlabel(\n",
    "        \"Age:\"+str(df['age'].iloc[i])+\" Predicted: \"+str(pred_age) + \" to \" + str(pred_age + 20))\n",
    "plt.show()"
   ]
  },
  {
   "cell_type": "markdown",
   "id": "489d7acd",
   "metadata": {},
   "source": [
    "### Predictions for best model"
   ]
  },
  {
   "cell_type": "code",
   "execution_count": null,
   "id": "4bd53be0",
   "metadata": {},
   "outputs": [],
   "source": [
    "import os\n",
    "path = os.getcwd() + r'\\checkpoints\\age_range_model2_classification_6classes_canny-dropout-aug.epoch16-loss0.90.hdf5'"
   ]
  },
  {
   "cell_type": "code",
   "execution_count": null,
   "id": "eda53404",
   "metadata": {},
   "outputs": [],
   "source": [
    "best_model = tf.keras.models.load_model(path)"
   ]
  },
  {
   "cell_type": "code",
   "execution_count": null,
   "id": "de4634b7",
   "metadata": {},
   "outputs": [],
   "source": [
    "y_pred_best = argmax(best_model.predict(X), axis=1)"
   ]
  },
  {
   "cell_type": "code",
   "execution_count": null,
   "id": "1a6eeeb8",
   "metadata": {
    "scrolled": true
   },
   "outputs": [],
   "source": [
    "pd.Series((y_pred_best)).plot(kind='hist', bins=40, label='Predicted', alpha=0.5)\n",
    "pd.Series(argmax(y, axis = 1)).plot(kind='hist', bins=40, label='Original', alpha=0.5)\n",
    "\n",
    "plt.legend(title='Group')\n",
    "\n",
    "plt.ylabel('Frequency', fontsize=14)\n",
    "plt.xlabel('Age', fontsize=14)\n",
    "plt.title('Predicted vs Original', fontsize=16)"
   ]
  },
  {
   "cell_type": "code",
   "execution_count": null,
   "id": "c99df26a",
   "metadata": {},
   "outputs": [],
   "source": [
    "from sklearn.metrics import confusion_matrix, classification_report\n",
    "sns.heatmap(confusion_matrix(argmax(y, axis = 1), y_pred_best))"
   ]
  },
  {
   "cell_type": "code",
   "execution_count": null,
   "id": "09988021",
   "metadata": {},
   "outputs": [],
   "source": [
    "print(classification_report(argmax(y, axis = 1), y_pred_best))"
   ]
  },
  {
   "cell_type": "code",
   "execution_count": null,
   "id": "436fb2b2",
   "metadata": {},
   "outputs": [],
   "source": [
    "plt.figure(figsize=(16,16))\n",
    "for i in range(1300,1320):\n",
    "    plt.subplot(5,5,(i%25)+1)\n",
    "    plt.xticks([])\n",
    "    plt.yticks([])\n",
    "    plt.grid(False)\n",
    "    plt.imshow(df['pixels'].iloc[i].reshape(48,48))\n",
    "    pred_age = (20 * (y_pred_best.numpy()[i]))\n",
    "    plt.xlabel(\n",
    "        \"Age:\"+str(df['age'].iloc[i])+\" Predicted: \"+str(pred_age) + \" to \" + str(pred_age + 20))\n",
    "plt.show()"
   ]
  },
  {
   "cell_type": "code",
   "execution_count": null,
   "id": "8373f3ca",
   "metadata": {},
   "outputs": [],
   "source": []
  }
 ],
 "metadata": {
  "kernelspec": {
   "display_name": "Python 3 (ipykernel)",
   "language": "python",
   "name": "python3"
  },
  "language_info": {
   "codemirror_mode": {
    "name": "ipython",
    "version": 3
   },
   "file_extension": ".py",
   "mimetype": "text/x-python",
   "name": "python",
   "nbconvert_exporter": "python",
   "pygments_lexer": "ipython3",
   "version": "3.8.5"
  }
 },
 "nbformat": 4,
 "nbformat_minor": 5
}
