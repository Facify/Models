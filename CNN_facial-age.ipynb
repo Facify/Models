{
 "cells": [
  {
   "cell_type": "markdown",
   "metadata": {},
   "source": [
    "## Importing and Processing Data"
   ]
  },
  {
   "cell_type": "code",
   "execution_count": null,
   "metadata": {},
   "outputs": [],
   "source": [
    "import pandas as pd\n",
    "import numpy as np\n",
    "\n",
    "import matplotlib.image as mpimg\n",
    "import matplotlib.pyplot as plt\n",
    "\n",
    "import keras\n",
    "from keras.models import Sequential\n",
    "from keras.layers import Conv2D, MaxPooling2D,GlobalAveragePooling2D,Dropout, Flatten, Dense\n",
    "from keras import regularizers\n",
    "from keras.optimizers import SGD\n",
    "from keras.preprocessing.image import ImageDataGenerator\n",
    "from keras.utils.np_utils import to_categorical\n",
    "\n",
    "from sklearn.model_selection import train_test_split\n",
    "from sklearn.metrics import roc_auc_score\n",
    "from sklearn.preprocessing import LabelEncoder # one-hot encoding for age\n",
    "\n",
    "from PIL import Image\n",
    "import os"
   ]
  },
  {
   "cell_type": "code",
   "execution_count": 2,
   "metadata": {},
   "outputs": [],
   "source": [
    "path=\"../dataset/face_age/\"\n"
   ]
  },
  {
   "cell_type": "code",
   "execution_count": 3,
   "metadata": {},
   "outputs": [],
   "source": [
    "#Visualization of images\n",
    "\n",
    "# def visualize_image(age, number_of_images):\n",
    "#     plt.figure(figsize=(10, 10))\n",
    "#     folder=path+age+'/'\n",
    "#     images=os.listdir(folder)[:number_of_images]\n",
    "#     for i in range(number_of_images):\n",
    "#         img=mpimg.imread(folder+images[i])\n",
    "#         plt.subplot(number_of_images/2, 2, i+1)\n",
    "#         plt.imshow(img)\n",
    "\n",
    "# visualize_image(\"020\", 10)"
   ]
  },
  {
   "cell_type": "code",
   "execution_count": 4,
   "metadata": {},
   "outputs": [],
   "source": [
    "# X=[]\n",
    "# y=[]\n",
    "\n",
    "# for folder, _, imgs in os.walk(path):\n",
    "#     if folder!=\"face_age\":\n",
    "#         for img in imgs:\n",
    "#             img_path=folder+'/'+img\n",
    "#             image=Image.open(img_path)\n",
    "#             image=image.convert('RGB')\n",
    "#             X.append(np.array(image))\n",
    "#             y.append(int(folder[-3:]))\n",
    "\n",
    "# X=np.array(X)\n",
    "# y=np.array(y);"
   ]
  },
  {
   "cell_type": "code",
   "execution_count": 5,
   "metadata": {},
   "outputs": [],
   "source": [
    "# X=X.astype(\"float32\")\n",
    "# #normalization\n",
    "# X/=255.0\n",
    "# X"
   ]
  },
  {
   "cell_type": "code",
   "execution_count": 6,
   "metadata": {},
   "outputs": [],
   "source": [
    "# X.shape"
   ]
  },
  {
   "cell_type": "code",
   "execution_count": 7,
   "metadata": {},
   "outputs": [],
   "source": [
    "# os.mkdir(\"../dataset/Data\")"
   ]
  },
  {
   "cell_type": "code",
   "execution_count": 41,
   "metadata": {},
   "outputs": [],
   "source": [
    "# np.save(\"../dataset/face_age_data/X.npy\", X)\n",
    "# np.save(\"../dataset/face_age_data/y.npy\", y)\n",
    "X = np.load('../dataset/face_age_data/X.npy')\n",
    "y = np.load('../dataset/face_age_data/y.npy')"
   ]
  },
  {
   "cell_type": "markdown",
   "metadata": {},
   "source": [
    "## Train, Test and Validation Datasets"
   ]
  },
  {
   "cell_type": "code",
   "execution_count": 42,
   "metadata": {},
   "outputs": [],
   "source": [
    "# Train, validation and testing split (70/15/15)\n",
    "\n",
    "# test_size = 0.3\n",
    "# seed = 0\n",
    "# X_train, X_test, y_train, y_test = train_test_split(X, y, test_size=test_size, random_state=seed, shuffle=True, stratify=y)\n",
    "# X_test, X_val, y_test, y_val = train_test_split(X_test, y_test, test_size=0.5)"
   ]
  },
  {
   "cell_type": "code",
   "execution_count": 43,
   "metadata": {},
   "outputs": [],
   "source": [
    "# save to files\n",
    "# np.save('../dataset/face_age_data/X_train.npy', X_train)\n",
    "# np.save('../dataset/face_age_data/y_train.npy', y_train)\n",
    "# np.save('../dataset/face_age_data/X_val.npy', X_val)\n",
    "# np.save('../dataset/face_age_data/y_val.npy', y_val)\n",
    "# np.save('../dataset/face_age_data/X_test.npy', X_test)\n",
    "# np.save('../dataset/face_age_data/y_test.npy', y_test)\n",
    "\n",
    "X_train = np.load('../dataset/face_age_data/X_train.npy')\n",
    "y_train = np.load('../dataset/face_age_data/y_train.npy')\n",
    "X_val = np.load('../dataset/face_age_data/X_val.npy')\n",
    "y_val = np.load('../dataset/face_age_data/y_val.npy')\n",
    "X_test = np.load('../dataset/face_age_data/X_test.npy')\n",
    "y_test = np.load('../dataset/face_age_data/y_test.npy')"
   ]
  },
  {
   "cell_type": "code",
   "execution_count": 11,
   "metadata": {},
   "outputs": [],
   "source": [
    "# confirm the saved files\n",
    "# os.listdir(\"../face_age_dataset/Data\")"
   ]
  },
  {
   "cell_type": "markdown",
   "metadata": {},
   "source": [
    "## Image Augmentation"
   ]
  },
  {
   "cell_type": "code",
   "execution_count": 12,
   "metadata": {},
   "outputs": [],
   "source": [
    "# Apply Image Augmentation\n",
    "\n",
    "train_datagen = ImageDataGenerator(\n",
    "    shear_range = 0.2, # random application of shearing\n",
    "    zoom_range = 0.2, \n",
    "    horizontal_flip = True) # randomly flipping half of the images horizontally\n",
    "\n",
    "test_datagen = ImageDataGenerator()"
   ]
  },
  {
   "cell_type": "markdown",
   "metadata": {},
   "source": [
    "## Callbacks and Default Hyperparameters"
   ]
  },
  {
   "cell_type": "code",
   "execution_count": 13,
   "metadata": {},
   "outputs": [],
   "source": [
    "from keras.callbacks import Callback, ReduceLROnPlateau, EarlyStopping\n",
    "from timeit import default_timer as timer\n",
    "\n",
    "class TimingCallback(Callback):\n",
    "    def __init__(self, logs={}):\n",
    "        self.logs=[]\n",
    "    def on_epoch_begin(self, epoch, logs={}):\n",
    "        self.starttime = timer()\n",
    "    def on_epoch_end(self, epoch, logs={}):\n",
    "        self.logs.append(timer()-self.starttime)\n",
    "\n",
    "early_stopping = EarlyStopping(\n",
    "                                patience=5, # wait for 5 epochs\n",
    "                                min_delta = 0.01, # if in 5 epochs the loss function doesn't increase (for accuracy) \n",
    "                                               # or decrease (for val_loss) by 1%, then stop\n",
    "                                verbose=1, # print the training epoch on which training was stopped\n",
    "                                mode = 'min',\n",
    "                                monitor='val_loss')\n",
    "\n",
    "reduce_learning_rate = ReduceLROnPlateau(\n",
    "                                    monitor=\"val_loss\",\n",
    "                                    patience=3, # if val_loss plateaus for 3 epochs such that it doesn't see \n",
    "                                                # an improvement of size = epsilon\n",
    "                                    episilon= 0.01,\n",
    "                                    factor=0.1,  # then we reduce the learning rate by a factor of 0.1\n",
    "                                    cooldown = 4, # and we wait for 4 epochs before we restart again\n",
    "                                    verbose=1)\n",
    "\n",
    "time_callback = TimingCallback()\n",
    "\n",
    "        \n",
    "# hyperparameters\n",
    "lr = 0.01\n",
    "epochs = 50\n",
    "batch_size = 128\n",
    "results = {}\n",
    "input_shape =[200, 200]"
   ]
  },
  {
   "cell_type": "markdown",
   "metadata": {},
   "source": [
    "## Simple CNN Model\n",
    "\n",
    "* A simple CNN model with 6 layers:\n",
    "Input - Conv - MaxPool - Dropout - Flatten - Output"
   ]
  },
  {
   "cell_type": "code",
   "execution_count": 14,
   "metadata": {},
   "outputs": [],
   "source": [
    "def baseline_model():\n",
    "    model = Sequential()\n",
    "    model.add(Conv2D(filters=32,kernel_size=(3,3),activation=\"relu\",\n",
    "                   padding=\"valid\",\n",
    "                   kernel_regularizer=regularizers.l2(0.00001),\n",
    "                   input_shape=(input_shape[0], input_shape[1], 3)))\n",
    "    model.add(MaxPooling2D(pool_size=2, strides=2, padding='valid'))\n",
    "    model.add(Dropout(0.5))\n",
    "    model.add(Flatten())\n",
    "    model.add(Dense(1,activation=\"linear\")) \n",
    "    return model"
   ]
  },
  {
   "cell_type": "code",
   "execution_count": 15,
   "metadata": {},
   "outputs": [],
   "source": [
    "Adam= keras.optimizers.Adam(lr=0.1,beta_1=0.9, beta_2=0.999, decay=0.0)"
   ]
  },
  {
   "cell_type": "code",
   "execution_count": 16,
   "metadata": {},
   "outputs": [
    {
     "name": "stdout",
     "output_type": "stream",
     "text": [
      "WARNING:tensorflow:From C:\\ProgramData\\Anaconda3\\lib\\site-packages\\keras\\backend\\tensorflow_backend.py:4070: The name tf.nn.max_pool is deprecated. Please use tf.nn.max_pool2d instead.\n",
      "\n",
      "WARNING:tensorflow:From C:\\ProgramData\\Anaconda3\\lib\\site-packages\\keras\\backend\\tensorflow_backend.py:422: The name tf.global_variables is deprecated. Please use tf.compat.v1.global_variables instead.\n",
      "\n",
      "Epoch 1/50\n",
      "106/106 [==============================] - 342s 3s/step - loss: 19.2902 - mean_absolute_error: 19.2906 - val_loss: 15.4419 - val_mean_absolute_error: 15.4418\n",
      "Epoch 2/50\n",
      "106/106 [==============================] - 326s 3s/step - loss: 15.5175 - mean_absolute_error: 15.5175 - val_loss: 13.9914 - val_mean_absolute_error: 13.9913\n",
      "Epoch 3/50\n",
      "106/106 [==============================] - 293s 3s/step - loss: 14.4634 - mean_absolute_error: 14.4629 - val_loss: 13.3891 - val_mean_absolute_error: 13.3890\n",
      "Epoch 4/50\n",
      "106/106 [==============================] - 329s 3s/step - loss: 13.7338 - mean_absolute_error: 13.7329 - val_loss: 12.4527 - val_mean_absolute_error: 12.4526\n",
      "Epoch 5/50\n",
      "106/106 [==============================] - 345s 3s/step - loss: 13.3956 - mean_absolute_error: 13.3960 - val_loss: 12.2022 - val_mean_absolute_error: 12.2021\n",
      "Epoch 6/50\n",
      "106/106 [==============================] - 374s 4s/step - loss: 12.9600 - mean_absolute_error: 12.9607 - val_loss: 12.0175 - val_mean_absolute_error: 12.0175\n",
      "Epoch 7/50\n",
      "106/106 [==============================] - 407s 4s/step - loss: 12.8447 - mean_absolute_error: 12.8446 - val_loss: 11.8280 - val_mean_absolute_error: 11.8279\n",
      "Epoch 8/50\n",
      "106/106 [==============================] - 252s 2s/step - loss: 12.7186 - mean_absolute_error: 12.7185 - val_loss: 12.0873 - val_mean_absolute_error: 12.0873\n",
      "Epoch 9/50\n",
      "106/106 [==============================] - 253s 2s/step - loss: 12.3230 - mean_absolute_error: 12.3230 - val_loss: 11.3586 - val_mean_absolute_error: 11.3586\n",
      "Epoch 10/50\n",
      "106/106 [==============================] - 238s 2s/step - loss: 12.1126 - mean_absolute_error: 12.1120 - val_loss: 11.4634 - val_mean_absolute_error: 11.4633\n",
      "Epoch 11/50\n",
      "106/106 [==============================] - 237s 2s/step - loss: 12.1133 - mean_absolute_error: 12.1133 - val_loss: 11.1004 - val_mean_absolute_error: 11.1003\n",
      "Epoch 12/50\n",
      "106/106 [==============================] - 278s 3s/step - loss: 11.8601 - mean_absolute_error: 11.8606 - val_loss: 10.9591 - val_mean_absolute_error: 10.9591\n",
      "Epoch 13/50\n",
      "106/106 [==============================] - 369s 3s/step - loss: 11.5867 - mean_absolute_error: 11.5869 - val_loss: 10.6912 - val_mean_absolute_error: 10.6912\n",
      "Epoch 14/50\n",
      "106/106 [==============================] - 383s 4s/step - loss: 11.4935 - mean_absolute_error: 11.4928 - val_loss: 10.7219 - val_mean_absolute_error: 10.7218\n",
      "Epoch 15/50\n",
      "106/106 [==============================] - 364s 3s/step - loss: 11.3589 - mean_absolute_error: 11.3596 - val_loss: 10.5619 - val_mean_absolute_error: 10.5618\n",
      "Epoch 16/50\n",
      "106/106 [==============================] - 333s 3s/step - loss: 11.2854 - mean_absolute_error: 11.2846 - val_loss: 10.5215 - val_mean_absolute_error: 10.5214\n",
      "Epoch 17/50\n",
      "106/106 [==============================] - 282s 3s/step - loss: 10.9790 - mean_absolute_error: 10.9788 - val_loss: 10.3830 - val_mean_absolute_error: 10.3829\n",
      "Epoch 18/50\n",
      "106/106 [==============================] - 291s 3s/step - loss: 10.9937 - mean_absolute_error: 10.9935 - val_loss: 10.1456 - val_mean_absolute_error: 10.1455\n",
      "Epoch 19/50\n",
      "106/106 [==============================] - 279s 3s/step - loss: 10.9274 - mean_absolute_error: 10.9280 - val_loss: 10.7324 - val_mean_absolute_error: 10.7323\n",
      "Epoch 20/50\n",
      "106/106 [==============================] - 261s 2s/step - loss: 10.7390 - mean_absolute_error: 10.7389 - val_loss: 10.7975 - val_mean_absolute_error: 10.7975\n",
      "Epoch 21/50\n",
      "106/106 [==============================] - 257s 2s/step - loss: 10.7729 - mean_absolute_error: 10.7728 - val_loss: 10.3559 - val_mean_absolute_error: 10.3558\n",
      "\n",
      "Epoch 00021: ReduceLROnPlateau reducing learning rate to 0.00010000000474974513.\n",
      "Epoch 22/50\n",
      "106/106 [==============================] - 311s 3s/step - loss: 10.2716 - mean_absolute_error: 10.2708 - val_loss: 9.7897 - val_mean_absolute_error: 9.7896\n",
      "Epoch 23/50\n",
      "106/106 [==============================] - 270s 3s/step - loss: 10.3544 - mean_absolute_error: 10.3538 - val_loss: 9.7949 - val_mean_absolute_error: 9.7949\n",
      "Epoch 24/50\n",
      "106/106 [==============================] - 274s 3s/step - loss: 10.2939 - mean_absolute_error: 10.2929 - val_loss: 9.7478 - val_mean_absolute_error: 9.7477\n",
      "Epoch 25/50\n",
      "106/106 [==============================] - 269s 3s/step - loss: 10.2115 - mean_absolute_error: 10.2120 - val_loss: 9.7845 - val_mean_absolute_error: 9.7844\n",
      "Epoch 26/50\n",
      "106/106 [==============================] - 268s 3s/step - loss: 10.2357 - mean_absolute_error: 10.2359 - val_loss: 9.8598 - val_mean_absolute_error: 9.8597\n",
      "Epoch 27/50\n",
      "106/106 [==============================] - 276s 3s/step - loss: 10.2525 - mean_absolute_error: 10.2520 - val_loss: 9.6987 - val_mean_absolute_error: 9.6986\n",
      "Epoch 28/50\n",
      "106/106 [==============================] - 250s 2s/step - loss: 10.1980 - mean_absolute_error: 10.1990 - val_loss: 9.7047 - val_mean_absolute_error: 9.7047\n",
      "Epoch 29/50\n",
      "106/106 [==============================] - 241s 2s/step - loss: 10.2762 - mean_absolute_error: 10.2761 - val_loss: 9.7738 - val_mean_absolute_error: 9.7737\n",
      "Epoch 30/50\n",
      "106/106 [==============================] - 294s 3s/step - loss: 10.2136 - mean_absolute_error: 10.2131 - val_loss: 9.6765 - val_mean_absolute_error: 9.6765\n",
      "Epoch 31/50\n",
      "106/106 [==============================] - 294s 3s/step - loss: 10.0781 - mean_absolute_error: 10.0778 - val_loss: 9.6672 - val_mean_absolute_error: 9.6671\n",
      "Epoch 32/50\n",
      "106/106 [==============================] - 249s 2s/step - loss: 10.2731 - mean_absolute_error: 10.2737 - val_loss: 9.6981 - val_mean_absolute_error: 9.6981\n",
      "Epoch 33/50\n",
      "106/106 [==============================] - 250s 2s/step - loss: 10.1812 - mean_absolute_error: 10.1814 - val_loss: 9.7234 - val_mean_absolute_error: 9.7233\n",
      "Epoch 34/50\n",
      "106/106 [==============================] - 261s 2s/step - loss: 10.0976 - mean_absolute_error: 10.0970 - val_loss: 9.6244 - val_mean_absolute_error: 9.6244\n",
      "Epoch 35/50\n",
      "106/106 [==============================] - 262s 2s/step - loss: 10.0916 - mean_absolute_error: 10.0913 - val_loss: 9.7154 - val_mean_absolute_error: 9.7153\n",
      "Epoch 36/50\n",
      "106/106 [==============================] - 317s 3s/step - loss: 10.1424 - mean_absolute_error: 10.1422 - val_loss: 9.6268 - val_mean_absolute_error: 9.6267\n",
      "Epoch 37/50\n",
      "106/106 [==============================] - 323s 3s/step - loss: 10.1319 - mean_absolute_error: 10.1318 - val_loss: 9.6684 - val_mean_absolute_error: 9.6683\n",
      "\n",
      "Epoch 00037: ReduceLROnPlateau reducing learning rate to 1.0000000474974514e-05.\n",
      "Epoch 38/50\n",
      "106/106 [==============================] - 318s 3s/step - loss: 10.1501 - mean_absolute_error: 10.1487 - val_loss: 9.5969 - val_mean_absolute_error: 9.5968\n",
      "Epoch 39/50\n",
      "106/106 [==============================] - 275s 3s/step - loss: 10.0647 - mean_absolute_error: 10.0650 - val_loss: 9.6026 - val_mean_absolute_error: 9.6025\n",
      "Epoch 40/50\n",
      "106/106 [==============================] - 285s 3s/step - loss: 10.0682 - mean_absolute_error: 10.0681 - val_loss: 9.5891 - val_mean_absolute_error: 9.5890\n",
      "Epoch 41/50\n",
      "106/106 [==============================] - 240s 2s/step - loss: 10.1356 - mean_absolute_error: 10.1355 - val_loss: 9.5896 - val_mean_absolute_error: 9.5895\n",
      "Epoch 42/50\n",
      "106/106 [==============================] - 238s 2s/step - loss: 10.0879 - mean_absolute_error: 10.0879 - val_loss: 9.5978 - val_mean_absolute_error: 9.5978\n",
      "Epoch 43/50\n",
      "106/106 [==============================] - 231s 2s/step - loss: 9.9598 - mean_absolute_error: 9.9603 - val_loss: 9.5911 - val_mean_absolute_error: 9.5910\n",
      "\n",
      "Epoch 00043: ReduceLROnPlateau reducing learning rate to 1.0000000656873453e-06.\n",
      "Epoch 00043: early stopping\n"
     ]
    }
   ],
   "source": [
    "model = baseline_model()\n",
    "\n",
    "model.compile(optimizer=\"adam\",loss=\"mean_absolute_error\",metrics=['mean_absolute_error'])\n",
    "\n",
    "model_history = model.fit_generator(\n",
    "            train_datagen.flow(X_train,y_train,\n",
    "            batch_size = batch_size), # use augmented images\n",
    "            validation_data = (X_val,y_val),\n",
    "            steps_per_epoch=X_train.shape[0] // batch_size,\n",
    "            epochs = epochs,\n",
    "            callbacks = [\n",
    "                         reduce_learning_rate,\n",
    "                         early_stopping,\n",
    "                         time_callback\n",
    "                        ],\n",
    "            verbose=True)"
   ]
  },
  {
   "cell_type": "code",
   "execution_count": 19,
   "metadata": {},
   "outputs": [],
   "source": [
    "baseline_adam_train_loss = model_history.history[\"loss\"]\n",
    "baseline_adam_val_loss = model_history.history[\"val_loss\"]\n",
    "baseline_adam_train_acc = model_history.history[\"mean_absolute_error\"]\n",
    "baseline_adam_val_acc = model_history.history[\"val_mean_absolute_error\"]\n",
    "\n",
    "\n",
    "results[\"baseline_adam\"] = {'train-loss': baseline_adam_train_loss,\n",
    "                             'val-loss': baseline_adam_val_loss,\n",
    "                             'train-mae': baseline_adam_train_acc,\n",
    "                             'val-mae': baseline_adam_val_acc}"
   ]
  },
  {
   "cell_type": "code",
   "execution_count": 24,
   "metadata": {},
   "outputs": [
    {
     "data": {
      "text/plain": [
       "<enumerate at 0x1a59887b9a8>"
      ]
     },
     "execution_count": 24,
     "metadata": {},
     "output_type": "execute_result"
    }
   ],
   "source": [
    "enumerate(results.keys())"
   ]
  },
  {
   "cell_type": "markdown",
   "metadata": {},
   "source": [
    "## Performance Visualization"
   ]
  },
  {
   "cell_type": "code",
   "execution_count": 33,
   "metadata": {},
   "outputs": [
    {
     "data": {
      "image/png": "[encoded data removed]",
      "text/plain": [
       "<Figure size 576x432 with 1 Axes>"
      ]
     },
     "metadata": {
      "needs_background": "light"
     },
     "output_type": "display_data"
    }
   ],
   "source": [
    "plt.figure(figsize=(8,6))\n",
    "for i, cond in enumerate(results.keys()):\n",
    "    plt.plot(range(len(results[cond]['train-mae'])),results[cond]['train-mae'], '-', label=cond+\"_train\", color=\"blue\")\n",
    "    plt.plot(range(len(results[cond]['val-mae'])),results[cond]['val-mae'], '-', label=cond+\"_val\", color=\"green\")\n",
    "plt.title(\"Mean Absolute Error\")\n",
    "plt.xlabel(\"Epochs\")\n",
    "plt.legend()\n",
    "plt.show()"
   ]
  },
  {
   "cell_type": "markdown",
   "metadata": {},
   "source": [
    "## Results on Test Set\n",
    "#### Loss: 9.50348114113819\n",
    "#### Mean Absolute Error: 9.503398895263672"
   ]
  },
  {
   "cell_type": "code",
   "execution_count": 45,
   "metadata": {},
   "outputs": [
    {
     "name": "stdout",
     "output_type": "stream",
     "text": [
      "2933/2933 [==============================] - 12s 4ms/step\n"
     ]
    },
    {
     "data": {
      "text/plain": [
       "{'loss': 9.50348114113819, 'mean_absolute_error': 9.503398895263672}"
      ]
     },
     "execution_count": 45,
     "metadata": {},
     "output_type": "execute_result"
    }
   ],
   "source": [
    "model_test_results = model.evaluate(X_test, y_test, batch_size=128)\n",
    "dict(zip(model.metrics_names, model_test_results))"
   ]
  },
  {
   "cell_type": "code",
   "execution_count": 90,
   "metadata": {},
   "outputs": [],
   "source": [
    "y_pred = model.predict(X_test).reshape(-1)"
   ]
  },
  {
   "cell_type": "markdown",
   "metadata": {},
   "source": [
    "## Dividing in various Age Ranges"
   ]
  },
  {
   "cell_type": "code",
   "execution_count": 103,
   "metadata": {},
   "outputs": [],
   "source": [
    "def ageRangeAccuracy(range):\n",
    "    y_test_range=np.around((y_test/range), decimals=0).astype(int)\n",
    "    y_pred_range=np.around((y_pred/range), decimals=0).astype(int)\n",
    "    return float(100*sum(np.equal(y_test_range, y_pred_range).astype(int))/len(y_pred_range))"
   ]
  },
  {
   "cell_type": "code",
   "execution_count": 108,
   "metadata": {},
   "outputs": [
    {
     "name": "stdout",
     "output_type": "stream",
     "text": [
      "[19.22945789294238, 36.14047050801227, 56.83600409137402, 71.42857142857143, 79.95226730310263]\n"
     ]
    },
    {
     "data": {
      "image/png": "[encoded data removed]",
      "text/plain": [
       "<Figure size 576x432 with 1 Axes>"
      ]
     },
     "metadata": {
      "needs_background": "light"
     },
     "output_type": "display_data"
    }
   ],
   "source": [
    "plt.figure(figsize=(8,6))\n",
    "range_accuracy=[]\n",
    "ranges=[5, 10, 20, 30, 50]\n",
    "for i in ranges:\n",
    "    range_accuracy.append(ageRangeAccuracy(i))\n",
    "\n",
    "print(range_accuracy)\n",
    "\n",
    "plt.plot(ranges, range_accuracy, color=\"blue\")\n",
    "plt.title(\"Accuracy based on Different age Ranges\")\n",
    "plt.xlabel(\"Age Range\")\n",
    "plt.ylabel(\"Accuracy\")\n",
    "plt.show()"
   ]
  }
 ],
 "metadata": {
  "interpreter": {
   "hash": "b3ba2566441a7c06988d0923437866b63cedc61552a5af99d1f4fb67d367b25f"
  },
  "kernelspec": {
   "display_name": "Python 3.7.11 64-bit ('base': conda)",
   "language": "python",
   "name": "python3"
  },
  "language_info": {
   "codemirror_mode": {
    "name": "ipython",
    "version": 3
   },
   "file_extension": ".py",
   "mimetype": "text/x-python",
   "name": "python",
   "nbconvert_exporter": "python",
   "pygments_lexer": "ipython3",
   "version": "3.7.11"
  },
  "orig_nbformat": 4
 },
 "nbformat": 4,
 "nbformat_minor": 2
}
