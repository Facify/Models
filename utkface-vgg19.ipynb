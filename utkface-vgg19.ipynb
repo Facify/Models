{
 "cells": [
  {
   "cell_type": "code",
   "execution_count": 1,
   "id": "686d0714",
   "metadata": {
    "_cell_guid": "b1076dfc-b9ad-4769-8c92-a6c4dae69d19",
    "_uuid": "8f2839f25d086af736a60e9eeb907d3b93b6e0e5",
    "execution": {
     "iopub.execute_input": "2021-12-20T21:24:48.579594Z",
     "iopub.status.busy": "2021-12-20T21:24:48.578105Z",
     "iopub.status.idle": "2021-12-20T21:24:54.238757Z",
     "shell.execute_reply": "2021-12-20T21:24:54.238040Z",
     "shell.execute_reply.started": "2021-12-20T21:17:04.855894Z"
    },
    "papermill": {
     "duration": 5.674936,
     "end_time": "2021-12-20T21:24:54.238952",
     "exception": false,
     "start_time": "2021-12-20T21:24:48.564016",
     "status": "completed"
    },
    "tags": []
   },
   "outputs": [],
   "source": [
    "import pandas as pd\n",
    "import numpy as np\n",
    "import seaborn as sns\n",
    "import os\n",
    "from PIL import Image, ImageOps\n",
    "from sklearn.model_selection import train_test_split\n",
    "\n",
    "from keras.models import Sequential\n",
    "from keras.layers import Conv2D, MaxPooling2D, Activation, Dropout, Flatten, Dense\n",
    "from keras import optimizers\n",
    "from tensorflow.keras.utils import to_categorical\n",
    "from keras.preprocessing.image import ImageDataGenerator\n",
    "import tensorflow as tf"
   ]
  },
  {
   "cell_type": "code",
   "execution_count": 2,
   "id": "e656f20d",
   "metadata": {
    "execution": {
     "iopub.execute_input": "2021-12-20T21:24:54.261506Z",
     "iopub.status.busy": "2021-12-20T21:24:54.261005Z",
     "iopub.status.idle": "2021-12-20T21:25:08.467697Z",
     "shell.execute_reply": "2021-12-20T21:25:08.467213Z",
     "shell.execute_reply.started": "2021-12-20T21:17:10.937804Z"
    },
    "papermill": {
     "duration": 14.21962,
     "end_time": "2021-12-20T21:25:08.467860",
     "exception": false,
     "start_time": "2021-12-20T21:24:54.248240",
     "status": "completed"
    },
    "tags": []
   },
   "outputs": [],
   "source": [
    "images = []\n",
    "ages = []\n",
    "genders = []\n",
    "\n",
    "for i in os.listdir('../input/utkface-new/UTKFace/')[0:4000]:\n",
    "    split = i.split('_')\n",
    "    ages.append(int(split[0]))\n",
    "    genders.append(int(split[1]))\n",
    "    images.append(Image.open('../input/utkface-new/UTKFace/' + i))"
   ]
  },
  {
   "cell_type": "code",
   "execution_count": 3,
   "id": "88b98917",
   "metadata": {
    "execution": {
     "iopub.execute_input": "2021-12-20T21:25:08.502290Z",
     "iopub.status.busy": "2021-12-20T21:25:08.501546Z",
     "iopub.status.idle": "2021-12-20T21:25:08.514220Z",
     "shell.execute_reply": "2021-12-20T21:25:08.514643Z",
     "shell.execute_reply.started": "2021-12-20T21:17:24.531640Z"
    },
    "papermill": {
     "duration": 0.038482,
     "end_time": "2021-12-20T21:25:08.514806",
     "exception": false,
     "start_time": "2021-12-20T21:25:08.476324",
     "status": "completed"
    },
    "tags": []
   },
   "outputs": [
    {
     "data": {
      "text/html": [
       "<div>\n",
       "<style scoped>\n",
       "    .dataframe tbody tr th:only-of-type {\n",
       "        vertical-align: middle;\n",
       "    }\n",
       "\n",
       "    .dataframe tbody tr th {\n",
       "        vertical-align: top;\n",
       "    }\n",
       "\n",
       "    .dataframe thead th {\n",
       "        text-align: right;\n",
       "    }\n",
       "</style>\n",
       "<table border=\"1\" class=\"dataframe\">\n",
       "  <thead>\n",
       "    <tr style=\"text-align: right;\">\n",
       "      <th></th>\n",
       "      <th>Images</th>\n",
       "      <th>Ages</th>\n",
       "      <th>Genders</th>\n",
       "    </tr>\n",
       "  </thead>\n",
       "  <tbody>\n",
       "    <tr>\n",
       "      <th>0</th>\n",
       "      <td>&lt;PIL.JpegImagePlugin.JpegImageFile image mode=...</td>\n",
       "      <td>26</td>\n",
       "      <td>0</td>\n",
       "    </tr>\n",
       "    <tr>\n",
       "      <th>1</th>\n",
       "      <td>&lt;PIL.JpegImagePlugin.JpegImageFile image mode=...</td>\n",
       "      <td>22</td>\n",
       "      <td>1</td>\n",
       "    </tr>\n",
       "    <tr>\n",
       "      <th>2</th>\n",
       "      <td>&lt;PIL.JpegImagePlugin.JpegImageFile image mode=...</td>\n",
       "      <td>21</td>\n",
       "      <td>1</td>\n",
       "    </tr>\n",
       "    <tr>\n",
       "      <th>3</th>\n",
       "      <td>&lt;PIL.JpegImagePlugin.JpegImageFile image mode=...</td>\n",
       "      <td>28</td>\n",
       "      <td>0</td>\n",
       "    </tr>\n",
       "    <tr>\n",
       "      <th>4</th>\n",
       "      <td>&lt;PIL.JpegImagePlugin.JpegImageFile image mode=...</td>\n",
       "      <td>17</td>\n",
       "      <td>1</td>\n",
       "    </tr>\n",
       "    <tr>\n",
       "      <th>...</th>\n",
       "      <td>...</td>\n",
       "      <td>...</td>\n",
       "      <td>...</td>\n",
       "    </tr>\n",
       "    <tr>\n",
       "      <th>3995</th>\n",
       "      <td>&lt;PIL.JpegImagePlugin.JpegImageFile image mode=...</td>\n",
       "      <td>34</td>\n",
       "      <td>0</td>\n",
       "    </tr>\n",
       "    <tr>\n",
       "      <th>3996</th>\n",
       "      <td>&lt;PIL.JpegImagePlugin.JpegImageFile image mode=...</td>\n",
       "      <td>45</td>\n",
       "      <td>1</td>\n",
       "    </tr>\n",
       "    <tr>\n",
       "      <th>3997</th>\n",
       "      <td>&lt;PIL.JpegImagePlugin.JpegImageFile image mode=...</td>\n",
       "      <td>22</td>\n",
       "      <td>1</td>\n",
       "    </tr>\n",
       "    <tr>\n",
       "      <th>3998</th>\n",
       "      <td>&lt;PIL.JpegImagePlugin.JpegImageFile image mode=...</td>\n",
       "      <td>26</td>\n",
       "      <td>0</td>\n",
       "    </tr>\n",
       "    <tr>\n",
       "      <th>3999</th>\n",
       "      <td>&lt;PIL.JpegImagePlugin.JpegImageFile image mode=...</td>\n",
       "      <td>57</td>\n",
       "      <td>0</td>\n",
       "    </tr>\n",
       "  </tbody>\n",
       "</table>\n",
       "<p>4000 rows × 3 columns</p>\n",
       "</div>"
      ],
      "text/plain": [
       "                                                 Images  Ages  Genders\n",
       "0     <PIL.JpegImagePlugin.JpegImageFile image mode=...    26        0\n",
       "1     <PIL.JpegImagePlugin.JpegImageFile image mode=...    22        1\n",
       "2     <PIL.JpegImagePlugin.JpegImageFile image mode=...    21        1\n",
       "3     <PIL.JpegImagePlugin.JpegImageFile image mode=...    28        0\n",
       "4     <PIL.JpegImagePlugin.JpegImageFile image mode=...    17        1\n",
       "...                                                 ...   ...      ...\n",
       "3995  <PIL.JpegImagePlugin.JpegImageFile image mode=...    34        0\n",
       "3996  <PIL.JpegImagePlugin.JpegImageFile image mode=...    45        1\n",
       "3997  <PIL.JpegImagePlugin.JpegImageFile image mode=...    22        1\n",
       "3998  <PIL.JpegImagePlugin.JpegImageFile image mode=...    26        0\n",
       "3999  <PIL.JpegImagePlugin.JpegImageFile image mode=...    57        0\n",
       "\n",
       "[4000 rows x 3 columns]"
      ]
     },
     "execution_count": 3,
     "metadata": {},
     "output_type": "execute_result"
    }
   ],
   "source": [
    "images = pd.Series(list(images), name = 'Images')\n",
    "ages = pd.Series(list(ages), name = 'Ages')\n",
    "genders = pd.Series(list(genders), name = 'Genders')\n",
    "\n",
    "df = pd.concat([images, ages, genders], axis=1)\n",
    "df"
   ]
  },
  {
   "cell_type": "code",
   "execution_count": 4,
   "id": "1eedd3bf",
   "metadata": {
    "execution": {
     "iopub.execute_input": "2021-12-20T21:25:08.540477Z",
     "iopub.status.busy": "2021-12-20T21:25:08.539663Z",
     "iopub.status.idle": "2021-12-20T21:25:08.569413Z",
     "shell.execute_reply": "2021-12-20T21:25:08.569893Z",
     "shell.execute_reply.started": "2021-12-20T21:17:24.565841Z"
    },
    "papermill": {
     "duration": 0.046043,
     "end_time": "2021-12-20T21:25:08.570031",
     "exception": false,
     "start_time": "2021-12-20T21:25:08.523988",
     "status": "completed"
    },
    "tags": []
   },
   "outputs": [
    {
     "data": {
      "image/png": "[encoded data removed]",
      "text/plain": [
       "<PIL.JpegImagePlugin.JpegImageFile image mode=RGB size=200x200 at 0x7FCD27A49150>"
      ]
     },
     "metadata": {},
     "output_type": "display_data"
    },
    {
     "name": "stdout",
     "output_type": "stream",
     "text": [
      "26 0\n"
     ]
    }
   ],
   "source": [
    "display(df['Images'][0])\n",
    "print(df['Ages'][0], df['Genders'][0])"
   ]
  },
  {
   "cell_type": "code",
   "execution_count": 5,
   "id": "24115e85",
   "metadata": {
    "execution": {
     "iopub.execute_input": "2021-12-20T21:25:08.598400Z",
     "iopub.status.busy": "2021-12-20T21:25:08.597543Z",
     "iopub.status.idle": "2021-12-20T21:25:08.966391Z",
     "shell.execute_reply": "2021-12-20T21:25:08.966807Z",
     "shell.execute_reply.started": "2021-12-20T21:17:24.602600Z"
    },
    "papermill": {
     "duration": 0.385861,
     "end_time": "2021-12-20T21:25:08.966953",
     "exception": false,
     "start_time": "2021-12-20T21:25:08.581092",
     "status": "completed"
    },
    "tags": []
   },
   "outputs": [
    {
     "name": "stderr",
     "output_type": "stream",
     "text": [
      "/opt/conda/lib/python3.7/site-packages/seaborn/distributions.py:2619: FutureWarning: `distplot` is a deprecated function and will be removed in a future version. Please adapt your code to use either `displot` (a figure-level function with similar flexibility) or `histplot` (an axes-level function for histograms).\n",
      "  warnings.warn(msg, FutureWarning)\n"
     ]
    },
    {
     "data": {
      "text/plain": [
       "<AxesSubplot:xlabel='Ages', ylabel='Density'>"
      ]
     },
     "execution_count": 5,
     "metadata": {},
     "output_type": "execute_result"
    },
    {
     "data": {
      "image/png": "[encoded data removed]",
      "text/plain": [
       "<Figure size 432x288 with 1 Axes>"
      ]
     },
     "metadata": {},
     "output_type": "display_data"
    }
   ],
   "source": [
    "sns.set_theme()\n",
    "sns.distplot(df['Ages'], bins=30)"
   ]
  },
  {
   "cell_type": "code",
   "execution_count": 6,
   "id": "90882061",
   "metadata": {
    "execution": {
     "iopub.execute_input": "2021-12-20T21:25:08.996958Z",
     "iopub.status.busy": "2021-12-20T21:25:08.996287Z",
     "iopub.status.idle": "2021-12-20T21:25:08.998965Z",
     "shell.execute_reply": "2021-12-20T21:25:08.999401Z",
     "shell.execute_reply.started": "2021-12-20T21:17:24.946645Z"
    },
    "papermill": {
     "duration": 0.020309,
     "end_time": "2021-12-20T21:25:08.999534",
     "exception": false,
     "start_time": "2021-12-20T21:25:08.979225",
     "status": "completed"
    },
    "tags": []
   },
   "outputs": [
    {
     "data": {
      "text/plain": [
       "4000"
      ]
     },
     "execution_count": 6,
     "metadata": {},
     "output_type": "execute_result"
    }
   ],
   "source": [
    "len(df)"
   ]
  },
  {
   "cell_type": "code",
   "execution_count": 7,
   "id": "ab9d2514",
   "metadata": {
    "execution": {
     "iopub.execute_input": "2021-12-20T21:25:09.032477Z",
     "iopub.status.busy": "2021-12-20T21:25:09.031920Z",
     "iopub.status.idle": "2021-12-20T21:25:16.691426Z",
     "shell.execute_reply": "2021-12-20T21:25:16.690888Z",
     "shell.execute_reply.started": "2021-12-20T21:17:24.955005Z"
    },
    "papermill": {
     "duration": 7.678355,
     "end_time": "2021-12-20T21:25:16.691550",
     "exception": false,
     "start_time": "2021-12-20T21:25:09.013195",
     "status": "completed"
    },
    "tags": []
   },
   "outputs": [
    {
     "name": "stderr",
     "output_type": "stream",
     "text": [
      "/opt/conda/lib/python3.7/site-packages/pandas/core/indexing.py:1732: SettingWithCopyWarning: \n",
      "A value is trying to be set on a copy of a slice from a DataFrame\n",
      "\n",
      "See the caveats in the documentation: https://pandas.pydata.org/pandas-docs/stable/user_guide/indexing.html#returning-a-view-versus-a-copy\n",
      "  self._setitem_single_block(indexer, value, name)\n"
     ]
    }
   ],
   "source": [
    "x = []\n",
    "y = []\n",
    "\n",
    "for i in range(len(df)):\n",
    "    df['Images'].iloc[i] = df['Images'].iloc[i].resize((200,200), Image.ANTIALIAS)\n",
    "    ar = np.asarray(df['Images'].iloc[i])\n",
    "    x.append(ar)\n",
    "    agegen = [int(df['Ages'].iloc[i]), int(df['Genders'].iloc[i])]\n",
    "    y.append(agegen)\n",
    "x = np.array(x)"
   ]
  },
  {
   "cell_type": "code",
   "execution_count": 8,
   "id": "3db5c783",
   "metadata": {
    "execution": {
     "iopub.execute_input": "2021-12-20T21:25:16.722295Z",
     "iopub.status.busy": "2021-12-20T21:25:16.721782Z",
     "iopub.status.idle": "2021-12-20T21:25:16.898540Z",
     "shell.execute_reply": "2021-12-20T21:25:16.899299Z",
     "shell.execute_reply.started": "2021-12-20T21:17:32.550107Z"
    },
    "papermill": {
     "duration": 0.194639,
     "end_time": "2021-12-20T21:25:16.899468",
     "exception": false,
     "start_time": "2021-12-20T21:25:16.704829",
     "status": "completed"
    },
    "tags": []
   },
   "outputs": [],
   "source": [
    "y_age = df['Ages'] // 20\n",
    "y_age = to_categorical(y_age, num_classes=6)\n",
    "\n",
    "x_train_age, x_test_age, y_train_age, y_test_age = train_test_split(x, y_age, test_size=0.2)"
   ]
  },
  {
   "cell_type": "code",
   "execution_count": 9,
   "id": "f669ee44",
   "metadata": {
    "execution": {
     "iopub.execute_input": "2021-12-20T21:25:16.931076Z",
     "iopub.status.busy": "2021-12-20T21:25:16.929555Z",
     "iopub.status.idle": "2021-12-20T21:25:16.931649Z",
     "shell.execute_reply": "2021-12-20T21:25:16.932074Z",
     "shell.execute_reply.started": "2021-12-20T21:17:32.857271Z"
    },
    "papermill": {
     "duration": 0.01882,
     "end_time": "2021-12-20T21:25:16.932202",
     "exception": false,
     "start_time": "2021-12-20T21:25:16.913382",
     "status": "completed"
    },
    "tags": []
   },
   "outputs": [],
   "source": [
    "datagen = ImageDataGenerator(\n",
    "    shear_range = 0.2, # random application of shearing\n",
    "    zoom_range = 0.2, \n",
    "    horizontal_flip = True) "
   ]
  },
  {
   "cell_type": "code",
   "execution_count": 10,
   "id": "2ed9f1db",
   "metadata": {
    "execution": {
     "iopub.execute_input": "2021-12-20T21:25:16.965791Z",
     "iopub.status.busy": "2021-12-20T21:25:16.965269Z",
     "iopub.status.idle": "2021-12-20T21:25:20.569510Z",
     "shell.execute_reply": "2021-12-20T21:25:20.569071Z",
     "shell.execute_reply.started": "2021-12-20T21:17:32.864264Z"
    },
    "papermill": {
     "duration": 3.624084,
     "end_time": "2021-12-20T21:25:20.569635",
     "exception": false,
     "start_time": "2021-12-20T21:25:16.945551",
     "status": "completed"
    },
    "tags": []
   },
   "outputs": [
    {
     "name": "stderr",
     "output_type": "stream",
     "text": [
      "2021-12-20 21:25:17.213726: I tensorflow/stream_executor/cuda/cuda_gpu_executor.cc:937] successful NUMA node read from SysFS had negative value (-1), but there must be at least one NUMA node, so returning NUMA node zero\n",
      "2021-12-20 21:25:17.299494: I tensorflow/stream_executor/cuda/cuda_gpu_executor.cc:937] successful NUMA node read from SysFS had negative value (-1), but there must be at least one NUMA node, so returning NUMA node zero\n",
      "2021-12-20 21:25:17.300349: I tensorflow/stream_executor/cuda/cuda_gpu_executor.cc:937] successful NUMA node read from SysFS had negative value (-1), but there must be at least one NUMA node, so returning NUMA node zero\n",
      "2021-12-20 21:25:17.301472: I tensorflow/core/platform/cpu_feature_guard.cc:142] This TensorFlow binary is optimized with oneAPI Deep Neural Network Library (oneDNN) to use the following CPU instructions in performance-critical operations:  AVX2 AVX512F FMA\n",
      "To enable them in other operations, rebuild TensorFlow with the appropriate compiler flags.\n",
      "2021-12-20 21:25:17.302517: I tensorflow/stream_executor/cuda/cuda_gpu_executor.cc:937] successful NUMA node read from SysFS had negative value (-1), but there must be at least one NUMA node, so returning NUMA node zero\n",
      "2021-12-20 21:25:17.303199: I tensorflow/stream_executor/cuda/cuda_gpu_executor.cc:937] successful NUMA node read from SysFS had negative value (-1), but there must be at least one NUMA node, so returning NUMA node zero\n",
      "2021-12-20 21:25:17.303830: I tensorflow/stream_executor/cuda/cuda_gpu_executor.cc:937] successful NUMA node read from SysFS had negative value (-1), but there must be at least one NUMA node, so returning NUMA node zero\n",
      "2021-12-20 21:25:18.893249: I tensorflow/stream_executor/cuda/cuda_gpu_executor.cc:937] successful NUMA node read from SysFS had negative value (-1), but there must be at least one NUMA node, so returning NUMA node zero\n",
      "2021-12-20 21:25:18.894093: I tensorflow/stream_executor/cuda/cuda_gpu_executor.cc:937] successful NUMA node read from SysFS had negative value (-1), but there must be at least one NUMA node, so returning NUMA node zero\n",
      "2021-12-20 21:25:18.894731: I tensorflow/stream_executor/cuda/cuda_gpu_executor.cc:937] successful NUMA node read from SysFS had negative value (-1), but there must be at least one NUMA node, so returning NUMA node zero\n",
      "2021-12-20 21:25:18.895339: I tensorflow/core/common_runtime/gpu/gpu_device.cc:1510] Created device /job:localhost/replica:0/task:0/device:GPU:0 with 15403 MB memory:  -> device: 0, name: Tesla P100-PCIE-16GB, pci bus id: 0000:00:04.0, compute capability: 6.0\n"
     ]
    },
    {
     "name": "stdout",
     "output_type": "stream",
     "text": [
      "Downloading data from https://storage.googleapis.com/tensorflow/keras-applications/vgg19/vgg19_weights_tf_dim_ordering_tf_kernels_notop.h5\n",
      "80142336/80134624 [==============================] - 1s 0us/step\n",
      "80150528/80134624 [==============================] - 1s 0us/step\n",
      "Model: \"sequential\"\n",
      "_________________________________________________________________\n",
      "Layer (type)                 Output Shape              Param #   \n",
      "=================================================================\n",
      "vgg19 (Functional)           (None, 6, 6, 512)         20024384  \n",
      "_________________________________________________________________\n",
      "flatten (Flatten)            (None, 18432)             0         \n",
      "_________________________________________________________________\n",
      "dense (Dense)                (None, 6)                 110598    \n",
      "=================================================================\n",
      "Total params: 20,134,982\n",
      "Trainable params: 110,598\n",
      "Non-trainable params: 20,024,384\n",
      "_________________________________________________________________\n"
     ]
    }
   ],
   "source": [
    "from keras.applications.vgg19 import VGG19\n",
    "\n",
    "\n",
    "base_model_vgg19 = VGG19(\n",
    "    weights = 'imagenet',  \n",
    "    input_shape=(200, 200, 3),\n",
    "    include_top=False) \n",
    "for layer in base_model_vgg19.layers:\n",
    "    layer.trainable = False\n",
    "    \n",
    "model_vgg19 = Sequential()\n",
    "model_vgg19.add(base_model_vgg19)\n",
    "model_vgg19.add(Flatten())\n",
    "model_vgg19.add(Dense(6,activation='softmax'))\n",
    "model_vgg19.summary()"
   ]
  },
  {
   "cell_type": "code",
   "execution_count": 11,
   "id": "b732c25a",
   "metadata": {
    "execution": {
     "iopub.execute_input": "2021-12-20T21:25:20.608543Z",
     "iopub.status.busy": "2021-12-20T21:25:20.604739Z",
     "iopub.status.idle": "2021-12-20T21:30:08.901225Z",
     "shell.execute_reply": "2021-12-20T21:30:08.900670Z",
     "shell.execute_reply.started": "2021-12-20T21:17:35.973608Z"
    },
    "papermill": {
     "duration": 288.315022,
     "end_time": "2021-12-20T21:30:08.901366",
     "exception": false,
     "start_time": "2021-12-20T21:25:20.586344",
     "status": "completed"
    },
    "tags": []
   },
   "outputs": [
    {
     "name": "stderr",
     "output_type": "stream",
     "text": [
      "/opt/conda/lib/python3.7/site-packages/keras/engine/training.py:1972: UserWarning: `Model.fit_generator` is deprecated and will be removed in a future version. Please use `Model.fit`, which supports generators.\n",
      "  warnings.warn('`Model.fit_generator` is deprecated and '\n",
      "2021-12-20 21:25:21.295796: I tensorflow/compiler/mlir/mlir_graph_optimization_pass.cc:185] None of the MLIR Optimization Passes are enabled (registered 2)\n"
     ]
    },
    {
     "name": "stdout",
     "output_type": "stream",
     "text": [
      "Epoch 1/10\n"
     ]
    },
    {
     "name": "stderr",
     "output_type": "stream",
     "text": [
      "2021-12-20 21:25:22.952054: I tensorflow/stream_executor/cuda/cuda_dnn.cc:369] Loaded cuDNN version 8005\n"
     ]
    },
    {
     "name": "stdout",
     "output_type": "stream",
     "text": [
      "100/100 [==============================] - 37s 281ms/step - loss: 8.3057 - accuracy: 0.5622 - mae: 0.1461 - val_loss: 8.1269 - val_accuracy: 0.5763 - val_mae: 0.1425\n",
      "Epoch 2/10\n",
      "100/100 [==============================] - 27s 270ms/step - loss: 5.9477 - accuracy: 0.6656 - mae: 0.1121 - val_loss: 8.4563 - val_accuracy: 0.6450 - val_mae: 0.1202\n",
      "Epoch 3/10\n",
      "100/100 [==============================] - 27s 271ms/step - loss: 5.5221 - accuracy: 0.6950 - mae: 0.1021 - val_loss: 9.3499 - val_accuracy: 0.6137 - val_mae: 0.1299\n",
      "Epoch 4/10\n",
      "100/100 [==============================] - 28s 279ms/step - loss: 4.8514 - accuracy: 0.7391 - mae: 0.0874 - val_loss: 6.8757 - val_accuracy: 0.6150 - val_mae: 0.1271\n",
      "Epoch 5/10\n",
      "100/100 [==============================] - 28s 284ms/step - loss: 4.8047 - accuracy: 0.7416 - mae: 0.0856 - val_loss: 7.6533 - val_accuracy: 0.6288 - val_mae: 0.1230\n",
      "Epoch 6/10\n",
      "100/100 [==============================] - 28s 276ms/step - loss: 4.6957 - accuracy: 0.7666 - mae: 0.0785 - val_loss: 8.8692 - val_accuracy: 0.6250 - val_mae: 0.1265\n",
      "Epoch 7/10\n",
      "100/100 [==============================] - 28s 278ms/step - loss: 3.4955 - accuracy: 0.7947 - mae: 0.0691 - val_loss: 9.5263 - val_accuracy: 0.6500 - val_mae: 0.1161\n",
      "Epoch 8/10\n",
      "100/100 [==============================] - 28s 283ms/step - loss: 3.6532 - accuracy: 0.8019 - mae: 0.0665 - val_loss: 9.5012 - val_accuracy: 0.6562 - val_mae: 0.1139\n",
      "Epoch 9/10\n",
      "100/100 [==============================] - 29s 288ms/step - loss: 3.6932 - accuracy: 0.7916 - mae: 0.0697 - val_loss: 9.5131 - val_accuracy: 0.6712 - val_mae: 0.1086\n",
      "Epoch 10/10\n",
      "100/100 [==============================] - 27s 274ms/step - loss: 4.3106 - accuracy: 0.7959 - mae: 0.0685 - val_loss: 9.1105 - val_accuracy: 0.6313 - val_mae: 0.1223\n"
     ]
    }
   ],
   "source": [
    "model_vgg19.compile(loss=\"categorical_crossentropy\", optimizer=\"adam\", metrics=[\"accuracy\", \"mae\"])\n",
    "\n",
    "history_vgg19 = model_vgg19.fit_generator(datagen.flow(x_train_age, y_train_age, batch_size=32),\n",
    "                   epochs=10,\n",
    "                   verbose=1,\n",
    "                   validation_data=(x_test_age, y_test_age))"
   ]
  }
 ],
 "metadata": {
  "kernelspec": {
   "display_name": "Python 3",
   "language": "python",
   "name": "python3"
  },
  "language_info": {
   "codemirror_mode": {
    "name": "ipython",
    "version": 3
   },
   "file_extension": ".py",
   "mimetype": "text/x-python",
   "name": "python",
   "nbconvert_exporter": "python",
   "pygments_lexer": "ipython3",
   "version": "3.7.12"
  },
  "papermill": {
   "default_parameters": {},
   "duration": 332.49211,
   "end_time": "2021-12-20T21:30:12.701343",
   "environment_variables": {},
   "exception": null,
   "input_path": "__notebook__.ipynb",
   "output_path": "__notebook__.ipynb",
   "parameters": {},
   "start_time": "2021-12-20T21:24:40.209233",
   "version": "2.3.3"
  }
 },
 "nbformat": 4,
 "nbformat_minor": 5
}
