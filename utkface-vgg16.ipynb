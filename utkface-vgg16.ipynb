{
 "cells": [
  {
   "cell_type": "code",
   "execution_count": 1,
   "metadata": {
    "execution": {
     "iopub.execute_input": "2021-12-20T21:14:49.205450Z",
     "iopub.status.busy": "2021-12-20T21:14:49.204576Z",
     "iopub.status.idle": "2021-12-20T21:14:55.430413Z",
     "shell.execute_reply": "2021-12-20T21:14:55.429374Z",
     "shell.execute_reply.started": "2021-12-20T21:08:40.418245Z"
    },
    "papermill": {
     "duration": 6.245694,
     "end_time": "2021-12-20T21:14:55.430687",
     "exception": false,
     "start_time": "2021-12-20T21:14:49.184993",
     "status": "completed"
    },
    "tags": []
   },
   "outputs": [],
   "source": [
    "import pandas as pd\n",
    "import numpy as np\n",
    "import seaborn as sns\n",
    "import os\n",
    "from PIL import Image, ImageOps\n",
    "from sklearn.model_selection import train_test_split\n",
    "\n",
    "from keras.models import Sequential\n",
    "from keras.layers import Conv2D, MaxPooling2D, Activation, Dropout, Flatten, Dense\n",
    "from keras import optimizers\n",
    "from tensorflow.keras.utils import to_categorical\n",
    "from keras.preprocessing.image import ImageDataGenerator\n",
    "import tensorflow as tf"
   ]
  },
  {
   "cell_type": "code",
   "execution_count": 2,
   "metadata": {
    "execution": {
     "iopub.execute_input": "2021-12-20T21:14:55.457689Z",
     "iopub.status.busy": "2021-12-20T21:14:55.456829Z",
     "iopub.status.idle": "2021-12-20T21:15:08.393131Z",
     "shell.execute_reply": "2021-12-20T21:15:08.391991Z",
     "shell.execute_reply.started": "2021-12-20T21:08:45.760175Z"
    },
    "papermill": {
     "duration": 12.951958,
     "end_time": "2021-12-20T21:15:08.393305",
     "exception": false,
     "start_time": "2021-12-20T21:14:55.441347",
     "status": "completed"
    },
    "tags": []
   },
   "outputs": [],
   "source": [
    "images = []\n",
    "ages = []\n",
    "genders = []\n",
    "\n",
    "for i in os.listdir('../input/utkface-new/UTKFace/')[0:4000]:\n",
    "    split = i.split('_')\n",
    "    ages.append(int(split[0]))\n",
    "    genders.append(int(split[1]))\n",
    "    images.append(Image.open('../input/utkface-new/UTKFace/' + i))"
   ]
  },
  {
   "cell_type": "code",
   "execution_count": 3,
   "metadata": {
    "execution": {
     "iopub.execute_input": "2021-12-20T21:15:08.446284Z",
     "iopub.status.busy": "2021-12-20T21:15:08.445155Z",
     "iopub.status.idle": "2021-12-20T21:15:08.458447Z",
     "shell.execute_reply": "2021-12-20T21:15:08.459004Z",
     "shell.execute_reply.started": "2021-12-20T21:08:58.386897Z"
    },
    "papermill": {
     "duration": 0.054862,
     "end_time": "2021-12-20T21:15:08.459200",
     "exception": false,
     "start_time": "2021-12-20T21:15:08.404338",
     "status": "completed"
    },
    "tags": []
   },
   "outputs": [
    {
     "data": {
      "text/html": [
       "<div>\n",
       "<style scoped>\n",
       "    .dataframe tbody tr th:only-of-type {\n",
       "        vertical-align: middle;\n",
       "    }\n",
       "\n",
       "    .dataframe tbody tr th {\n",
       "        vertical-align: top;\n",
       "    }\n",
       "\n",
       "    .dataframe thead th {\n",
       "        text-align: right;\n",
       "    }\n",
       "</style>\n",
       "<table border=\"1\" class=\"dataframe\">\n",
       "  <thead>\n",
       "    <tr style=\"text-align: right;\">\n",
       "      <th></th>\n",
       "      <th>Images</th>\n",
       "      <th>Ages</th>\n",
       "      <th>Genders</th>\n",
       "    </tr>\n",
       "  </thead>\n",
       "  <tbody>\n",
       "    <tr>\n",
       "      <th>0</th>\n",
       "      <td>&lt;PIL.JpegImagePlugin.JpegImageFile image mode=...</td>\n",
       "      <td>26</td>\n",
       "      <td>0</td>\n",
       "    </tr>\n",
       "    <tr>\n",
       "      <th>1</th>\n",
       "      <td>&lt;PIL.JpegImagePlugin.JpegImageFile image mode=...</td>\n",
       "      <td>22</td>\n",
       "      <td>1</td>\n",
       "    </tr>\n",
       "    <tr>\n",
       "      <th>2</th>\n",
       "      <td>&lt;PIL.JpegImagePlugin.JpegImageFile image mode=...</td>\n",
       "      <td>21</td>\n",
       "      <td>1</td>\n",
       "    </tr>\n",
       "    <tr>\n",
       "      <th>3</th>\n",
       "      <td>&lt;PIL.JpegImagePlugin.JpegImageFile image mode=...</td>\n",
       "      <td>28</td>\n",
       "      <td>0</td>\n",
       "    </tr>\n",
       "    <tr>\n",
       "      <th>4</th>\n",
       "      <td>&lt;PIL.JpegImagePlugin.JpegImageFile image mode=...</td>\n",
       "      <td>17</td>\n",
       "      <td>1</td>\n",
       "    </tr>\n",
       "    <tr>\n",
       "      <th>...</th>\n",
       "      <td>...</td>\n",
       "      <td>...</td>\n",
       "      <td>...</td>\n",
       "    </tr>\n",
       "    <tr>\n",
       "      <th>3995</th>\n",
       "      <td>&lt;PIL.JpegImagePlugin.JpegImageFile image mode=...</td>\n",
       "      <td>34</td>\n",
       "      <td>0</td>\n",
       "    </tr>\n",
       "    <tr>\n",
       "      <th>3996</th>\n",
       "      <td>&lt;PIL.JpegImagePlugin.JpegImageFile image mode=...</td>\n",
       "      <td>45</td>\n",
       "      <td>1</td>\n",
       "    </tr>\n",
       "    <tr>\n",
       "      <th>3997</th>\n",
       "      <td>&lt;PIL.JpegImagePlugin.JpegImageFile image mode=...</td>\n",
       "      <td>22</td>\n",
       "      <td>1</td>\n",
       "    </tr>\n",
       "    <tr>\n",
       "      <th>3998</th>\n",
       "      <td>&lt;PIL.JpegImagePlugin.JpegImageFile image mode=...</td>\n",
       "      <td>26</td>\n",
       "      <td>0</td>\n",
       "    </tr>\n",
       "    <tr>\n",
       "      <th>3999</th>\n",
       "      <td>&lt;PIL.JpegImagePlugin.JpegImageFile image mode=...</td>\n",
       "      <td>57</td>\n",
       "      <td>0</td>\n",
       "    </tr>\n",
       "  </tbody>\n",
       "</table>\n",
       "<p>4000 rows × 3 columns</p>\n",
       "</div>"
      ],
      "text/plain": [
       "                                                 Images  Ages  Genders\n",
       "0     <PIL.JpegImagePlugin.JpegImageFile image mode=...    26        0\n",
       "1     <PIL.JpegImagePlugin.JpegImageFile image mode=...    22        1\n",
       "2     <PIL.JpegImagePlugin.JpegImageFile image mode=...    21        1\n",
       "3     <PIL.JpegImagePlugin.JpegImageFile image mode=...    28        0\n",
       "4     <PIL.JpegImagePlugin.JpegImageFile image mode=...    17        1\n",
       "...                                                 ...   ...      ...\n",
       "3995  <PIL.JpegImagePlugin.JpegImageFile image mode=...    34        0\n",
       "3996  <PIL.JpegImagePlugin.JpegImageFile image mode=...    45        1\n",
       "3997  <PIL.JpegImagePlugin.JpegImageFile image mode=...    22        1\n",
       "3998  <PIL.JpegImagePlugin.JpegImageFile image mode=...    26        0\n",
       "3999  <PIL.JpegImagePlugin.JpegImageFile image mode=...    57        0\n",
       "\n",
       "[4000 rows x 3 columns]"
      ]
     },
     "execution_count": 3,
     "metadata": {},
     "output_type": "execute_result"
    }
   ],
   "source": [
    "images = pd.Series(list(images), name = 'Images')\n",
    "ages = pd.Series(list(ages), name = 'Ages')\n",
    "genders = pd.Series(list(genders), name = 'Genders')\n",
    "\n",
    "df = pd.concat([images, ages, genders], axis=1)\n",
    "df"
   ]
  },
  {
   "cell_type": "code",
   "execution_count": 4,
   "metadata": {
    "execution": {
     "iopub.execute_input": "2021-12-20T21:15:08.489571Z",
     "iopub.status.busy": "2021-12-20T21:15:08.488493Z",
     "iopub.status.idle": "2021-12-20T21:15:08.523487Z",
     "shell.execute_reply": "2021-12-20T21:15:08.522898Z",
     "shell.execute_reply.started": "2021-12-20T21:08:58.427688Z"
    },
    "papermill": {
     "duration": 0.053033,
     "end_time": "2021-12-20T21:15:08.523687",
     "exception": false,
     "start_time": "2021-12-20T21:15:08.470654",
     "status": "completed"
    },
    "tags": []
   },
   "outputs": [
    {
     "data": {
      "image/png": "[encoded data removed]",
      "text/plain": [
       "<PIL.JpegImagePlugin.JpegImageFile image mode=RGB size=200x200 at 0x7F7A4D0736D0>"
      ]
     },
     "metadata": {},
     "output_type": "display_data"
    },
    {
     "name": "stdout",
     "output_type": "stream",
     "text": [
      "26 0\n"
     ]
    }
   ],
   "source": [
    "display(df['Images'][0])\n",
    "print(df['Ages'][0], df['Genders'][0])"
   ]
  },
  {
   "cell_type": "code",
   "execution_count": 5,
   "metadata": {
    "execution": {
     "iopub.execute_input": "2021-12-20T21:15:08.556609Z",
     "iopub.status.busy": "2021-12-20T21:15:08.555731Z",
     "iopub.status.idle": "2021-12-20T21:15:08.915839Z",
     "shell.execute_reply": "2021-12-20T21:15:08.915180Z",
     "shell.execute_reply.started": "2021-12-20T21:08:58.464322Z"
    },
    "papermill": {
     "duration": 0.378794,
     "end_time": "2021-12-20T21:15:08.915995",
     "exception": false,
     "start_time": "2021-12-20T21:15:08.537201",
     "status": "completed"
    },
    "tags": []
   },
   "outputs": [
    {
     "name": "stderr",
     "output_type": "stream",
     "text": [
      "/opt/conda/lib/python3.7/site-packages/seaborn/distributions.py:2557: FutureWarning: `distplot` is a deprecated function and will be removed in a future version. Please adapt your code to use either `displot` (a figure-level function with similar flexibility) or `histplot` (an axes-level function for histograms).\n",
      "  warnings.warn(msg, FutureWarning)\n"
     ]
    },
    {
     "data": {
      "text/plain": [
       "<AxesSubplot:xlabel='Ages', ylabel='Density'>"
      ]
     },
     "execution_count": 5,
     "metadata": {},
     "output_type": "execute_result"
    },
    {
     "data": {
      "image/png": "[encoded data removed]",
      "text/plain": [
       "<Figure size 432x288 with 1 Axes>"
      ]
     },
     "metadata": {},
     "output_type": "display_data"
    }
   ],
   "source": [
    "sns.set_theme()\n",
    "sns.distplot(df['Ages'], bins=30)"
   ]
  },
  {
   "cell_type": "code",
   "execution_count": 6,
   "metadata": {
    "execution": {
     "iopub.execute_input": "2021-12-20T21:15:08.954668Z",
     "iopub.status.busy": "2021-12-20T21:15:08.952324Z",
     "iopub.status.idle": "2021-12-20T21:15:08.957194Z",
     "shell.execute_reply": "2021-12-20T21:15:08.956647Z",
     "shell.execute_reply.started": "2021-12-20T21:08:58.742814Z"
    },
    "papermill": {
     "duration": 0.025938,
     "end_time": "2021-12-20T21:15:08.957330",
     "exception": false,
     "start_time": "2021-12-20T21:15:08.931392",
     "status": "completed"
    },
    "tags": []
   },
   "outputs": [
    {
     "data": {
      "text/plain": [
       "4000"
      ]
     },
     "execution_count": 6,
     "metadata": {},
     "output_type": "execute_result"
    }
   ],
   "source": [
    "len(df)"
   ]
  },
  {
   "cell_type": "code",
   "execution_count": 7,
   "metadata": {
    "execution": {
     "iopub.execute_input": "2021-12-20T21:15:08.994810Z",
     "iopub.status.busy": "2021-12-20T21:15:08.993978Z",
     "iopub.status.idle": "2021-12-20T21:15:17.286732Z",
     "shell.execute_reply": "2021-12-20T21:15:17.285471Z",
     "shell.execute_reply.started": "2021-12-20T21:08:58.750295Z"
    },
    "papermill": {
     "duration": 8.314741,
     "end_time": "2021-12-20T21:15:17.286943",
     "exception": false,
     "start_time": "2021-12-20T21:15:08.972202",
     "status": "completed"
    },
    "tags": []
   },
   "outputs": [
    {
     "name": "stderr",
     "output_type": "stream",
     "text": [
      "/opt/conda/lib/python3.7/site-packages/pandas/core/indexing.py:670: SettingWithCopyWarning: \n",
      "A value is trying to be set on a copy of a slice from a DataFrame\n",
      "\n",
      "See the caveats in the documentation: https://pandas.pydata.org/pandas-docs/stable/user_guide/indexing.html#returning-a-view-versus-a-copy\n",
      "  iloc._setitem_with_indexer(indexer, value)\n"
     ]
    }
   ],
   "source": [
    "x = []\n",
    "y = []\n",
    "\n",
    "for i in range(len(df)):\n",
    "    df['Images'].iloc[i] = df['Images'].iloc[i].resize((200,200), Image.ANTIALIAS)\n",
    "    ar = np.asarray(df['Images'].iloc[i])\n",
    "    x.append(ar)\n",
    "    agegen = [int(df['Ages'].iloc[i]), int(df['Genders'].iloc[i])]\n",
    "    y.append(agegen)\n",
    "x = np.array(x)"
   ]
  },
  {
   "cell_type": "code",
   "execution_count": 8,
   "metadata": {
    "execution": {
     "iopub.execute_input": "2021-12-20T21:15:17.325676Z",
     "iopub.status.busy": "2021-12-20T21:15:17.324422Z",
     "iopub.status.idle": "2021-12-20T21:15:17.665835Z",
     "shell.execute_reply": "2021-12-20T21:15:17.664644Z",
     "shell.execute_reply.started": "2021-12-20T21:09:05.647968Z"
    },
    "papermill": {
     "duration": 0.363305,
     "end_time": "2021-12-20T21:15:17.666018",
     "exception": false,
     "start_time": "2021-12-20T21:15:17.302713",
     "status": "completed"
    },
    "tags": []
   },
   "outputs": [],
   "source": [
    "y_age = df['Ages'] // 20\n",
    "y_age = to_categorical(y_age, num_classes=6)\n",
    "\n",
    "x_train_age, x_test_age, y_train_age, y_test_age = train_test_split(x, y_age, test_size=0.2)"
   ]
  },
  {
   "cell_type": "code",
   "execution_count": 9,
   "metadata": {
    "execution": {
     "iopub.execute_input": "2021-12-20T21:15:17.705809Z",
     "iopub.status.busy": "2021-12-20T21:15:17.703760Z",
     "iopub.status.idle": "2021-12-20T21:15:17.706575Z",
     "shell.execute_reply": "2021-12-20T21:15:17.707148Z",
     "shell.execute_reply.started": "2021-12-20T21:09:05.826393Z"
    },
    "papermill": {
     "duration": 0.025189,
     "end_time": "2021-12-20T21:15:17.707310",
     "exception": false,
     "start_time": "2021-12-20T21:15:17.682121",
     "status": "completed"
    },
    "tags": []
   },
   "outputs": [],
   "source": [
    "datagen = ImageDataGenerator(\n",
    "    shear_range = 0.2, # random application of shearing\n",
    "    zoom_range = 0.2, \n",
    "    horizontal_flip = True) "
   ]
  },
  {
   "cell_type": "code",
   "execution_count": 10,
   "metadata": {
    "execution": {
     "iopub.execute_input": "2021-12-20T21:15:17.748280Z",
     "iopub.status.busy": "2021-12-20T21:15:17.747622Z",
     "iopub.status.idle": "2021-12-20T21:15:21.411099Z",
     "shell.execute_reply": "2021-12-20T21:15:21.410211Z",
     "shell.execute_reply.started": "2021-12-20T21:09:25.869712Z"
    },
    "papermill": {
     "duration": 3.688513,
     "end_time": "2021-12-20T21:15:21.411250",
     "exception": false,
     "start_time": "2021-12-20T21:15:17.722737",
     "status": "completed"
    },
    "tags": []
   },
   "outputs": [
    {
     "name": "stdout",
     "output_type": "stream",
     "text": [
      "Downloading data from https://storage.googleapis.com/tensorflow/keras-applications/vgg16/vgg16_weights_tf_dim_ordering_tf_kernels_notop.h5\n",
      "58892288/58889256 [==============================] - 1s 0us/step\n",
      "Model: \"sequential\"\n",
      "_________________________________________________________________\n",
      "Layer (type)                 Output Shape              Param #   \n",
      "=================================================================\n",
      "vgg16 (Functional)           (None, 6, 6, 512)         14714688  \n",
      "_________________________________________________________________\n",
      "flatten (Flatten)            (None, 18432)             0         \n",
      "_________________________________________________________________\n",
      "dense (Dense)                (None, 6)                 110598    \n",
      "=================================================================\n",
      "Total params: 14,825,286\n",
      "Trainable params: 110,598\n",
      "Non-trainable params: 14,714,688\n",
      "_________________________________________________________________\n"
     ]
    }
   ],
   "source": [
    "from keras.applications.vgg16 import VGG16\n",
    "\n",
    "\n",
    "base_model_vgg16 = VGG16(\n",
    "    weights = 'imagenet',  \n",
    "    input_shape=(200, 200, 3),\n",
    "    include_top=False) \n",
    "for layer in base_model_vgg16.layers:\n",
    "    layer.trainable = False\n",
    "    \n",
    "model_vgg16 = Sequential()\n",
    "model_vgg16.add(base_model_vgg16)\n",
    "model_vgg16.add(Flatten())\n",
    "model_vgg16.add(Dense(6,activation='softmax'))\n",
    "model_vgg16.summary()"
   ]
  },
  {
   "cell_type": "code",
   "execution_count": 11,
   "metadata": {
    "execution": {
     "iopub.execute_input": "2021-12-20T21:15:21.467022Z",
     "iopub.status.busy": "2021-12-20T21:15:21.465873Z",
     "iopub.status.idle": "2021-12-20T21:20:44.116717Z",
     "shell.execute_reply": "2021-12-20T21:20:44.115929Z",
     "shell.execute_reply.started": "2021-12-20T21:09:26.613681Z"
    },
    "papermill": {
     "duration": 322.685323,
     "end_time": "2021-12-20T21:20:44.116905",
     "exception": false,
     "start_time": "2021-12-20T21:15:21.431582",
     "status": "completed"
    },
    "tags": []
   },
   "outputs": [
    {
     "name": "stderr",
     "output_type": "stream",
     "text": [
      "/opt/conda/lib/python3.7/site-packages/tensorflow/python/keras/engine/training.py:1844: UserWarning: `Model.fit_generator` is deprecated and will be removed in a future version. Please use `Model.fit`, which supports generators.\n",
      "  warnings.warn('`Model.fit_generator` is deprecated and '\n"
     ]
    },
    {
     "name": "stdout",
     "output_type": "stream",
     "text": [
      "Epoch 1/10\n",
      "100/100 [==============================] - 36s 321ms/step - loss: 11.8945 - accuracy: 0.5255 - mae: 0.1594 - val_loss: 7.1056 - val_accuracy: 0.5850 - val_mae: 0.1379\n",
      "Epoch 2/10\n",
      "100/100 [==============================] - 32s 318ms/step - loss: 5.7564 - accuracy: 0.6684 - mae: 0.1112 - val_loss: 7.1032 - val_accuracy: 0.6388 - val_mae: 0.1202\n",
      "Epoch 3/10\n",
      "100/100 [==============================] - 32s 318ms/step - loss: 4.9880 - accuracy: 0.7236 - mae: 0.0919 - val_loss: 7.3619 - val_accuracy: 0.6425 - val_mae: 0.1217\n",
      "Epoch 4/10\n",
      "100/100 [==============================] - 32s 316ms/step - loss: 4.7587 - accuracy: 0.7412 - mae: 0.0860 - val_loss: 8.2439 - val_accuracy: 0.6625 - val_mae: 0.1127\n",
      "Epoch 5/10\n",
      "100/100 [==============================] - 32s 319ms/step - loss: 4.1677 - accuracy: 0.7608 - mae: 0.0798 - val_loss: 9.0443 - val_accuracy: 0.6237 - val_mae: 0.1252\n",
      "Epoch 6/10\n",
      "100/100 [==============================] - 32s 317ms/step - loss: 3.6647 - accuracy: 0.7905 - mae: 0.0705 - val_loss: 8.6411 - val_accuracy: 0.6275 - val_mae: 0.1239\n",
      "Epoch 7/10\n",
      "100/100 [==============================] - 32s 316ms/step - loss: 4.2181 - accuracy: 0.7651 - mae: 0.0782 - val_loss: 10.5233 - val_accuracy: 0.6087 - val_mae: 0.1302\n",
      "Epoch 8/10\n",
      "100/100 [==============================] - 32s 316ms/step - loss: 3.3838 - accuracy: 0.8116 - mae: 0.0625 - val_loss: 9.0515 - val_accuracy: 0.6775 - val_mae: 0.1076\n",
      "Epoch 9/10\n",
      "100/100 [==============================] - 32s 317ms/step - loss: 3.0138 - accuracy: 0.8300 - mae: 0.0569 - val_loss: 9.7600 - val_accuracy: 0.6737 - val_mae: 0.1090\n",
      "Epoch 10/10\n",
      "100/100 [==============================] - 32s 317ms/step - loss: 2.9358 - accuracy: 0.8491 - mae: 0.0506 - val_loss: 9.8861 - val_accuracy: 0.6675 - val_mae: 0.1107\n"
     ]
    }
   ],
   "source": [
    "model_vgg16.compile(loss=\"categorical_crossentropy\", optimizer=\"adam\", metrics=[\"accuracy\", \"mae\"])\n",
    "\n",
    "history_vgg16 = model_vgg16.fit_generator(datagen.flow(x_train_age, y_train_age, batch_size=32),\n",
    "                   epochs=10,\n",
    "                   verbose=1,\n",
    "                   validation_data=(x_test_age, y_test_age))"
   ]
  },
  {
   "cell_type": "code",
   "execution_count": null,
   "metadata": {
    "papermill": {
     "duration": 0.359398,
     "end_time": "2021-12-20T21:20:44.831074",
     "exception": false,
     "start_time": "2021-12-20T21:20:44.471676",
     "status": "completed"
    },
    "tags": []
   },
   "outputs": [],
   "source": []
  }
 ],
 "metadata": {
  "kernelspec": {
   "display_name": "Python 3",
   "language": "python",
   "name": "python3"
  },
  "language_info": {
   "codemirror_mode": {
    "name": "ipython",
    "version": 3
   },
   "file_extension": ".py",
   "mimetype": "text/x-python",
   "name": "python",
   "nbconvert_exporter": "python",
   "pygments_lexer": "ipython3",
   "version": "3.7.9"
  },
  "papermill": {
   "default_parameters": {},
   "duration": 363.564634,
   "end_time": "2021-12-20T21:20:47.221612",
   "environment_variables": {},
   "exception": null,
   "input_path": "__notebook__.ipynb",
   "output_path": "__notebook__.ipynb",
   "parameters": {},
   "start_time": "2021-12-20T21:14:43.656978",
   "version": "2.2.2"
  }
 },
 "nbformat": 4,
 "nbformat_minor": 4
}
